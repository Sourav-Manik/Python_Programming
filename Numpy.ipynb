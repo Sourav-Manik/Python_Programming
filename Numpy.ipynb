{
  "nbformat": 4,
  "nbformat_minor": 0,
  "metadata": {
    "colab": {
      "provenance": [],
      "authorship_tag": "ABX9TyNO/StWR3xAc1YUJfEmcIRj",
      "include_colab_link": true
    },
    "kernelspec": {
      "name": "python3",
      "display_name": "Python 3"
    },
    "language_info": {
      "name": "python"
    }
  },
  "cells": [
    {
      "cell_type": "markdown",
      "metadata": {
        "id": "view-in-github",
        "colab_type": "text"
      },
      "source": [
        "<a href=\"https://colab.research.google.com/github/Sourav-Manik/Python_Programming/blob/main/Numpy.ipynb\" target=\"_parent\"><img src=\"https://colab.research.google.com/assets/colab-badge.svg\" alt=\"Open In Colab\"/></a>"
      ]
    },
    {
      "cell_type": "markdown",
      "source": [
        "**Why Numpy?**\n",
        "\n",
        "Numpy is majorly used for array additions, multiplication, division for creating Nan values and also to create random numbers etc."
      ],
      "metadata": {
        "id": "QeOYSOu-pnej"
      }
    },
    {
      "cell_type": "code",
      "execution_count": null,
      "metadata": {
        "id": "0ed3YcK4pke2"
      },
      "outputs": [],
      "source": [
        "import numpy as np  "
      ]
    },
    {
      "cell_type": "code",
      "source": [
        "num_1 = [1,2,3,4,5.2]\n",
        "num_1"
      ],
      "metadata": {
        "colab": {
          "base_uri": "https://localhost:8080/"
        },
        "id": "yx4HhAXKp6Y9",
        "outputId": "3bdec700-dd7e-4eb0-b78c-58c21cb50e32"
      },
      "execution_count": null,
      "outputs": [
        {
          "output_type": "execute_result",
          "data": {
            "text/plain": [
              "[1, 2, 3, 4, 5.2]"
            ]
          },
          "metadata": {},
          "execution_count": 16
        }
      ]
    },
    {
      "cell_type": "code",
      "source": [
        "type(num_1)"
      ],
      "metadata": {
        "colab": {
          "base_uri": "https://localhost:8080/"
        },
        "id": "GBRT0J4zp6cU",
        "outputId": "a1b1f68f-be38-4787-9c90-2b60a22418e4"
      },
      "execution_count": null,
      "outputs": [
        {
          "output_type": "execute_result",
          "data": {
            "text/plain": [
              "list"
            ]
          },
          "metadata": {},
          "execution_count": 17
        }
      ]
    },
    {
      "cell_type": "code",
      "source": [
        "num_2 = np.array([1,2,3,4])\n",
        "num_2"
      ],
      "metadata": {
        "colab": {
          "base_uri": "https://localhost:8080/"
        },
        "id": "96f7gO_1p6fD",
        "outputId": "c1477580-3480-40cb-dd4a-b2a71d294176"
      },
      "execution_count": null,
      "outputs": [
        {
          "output_type": "execute_result",
          "data": {
            "text/plain": [
              "array([1, 2, 3, 4])"
            ]
          },
          "metadata": {},
          "execution_count": 7
        }
      ]
    },
    {
      "cell_type": "code",
      "source": [
        "type(num_2)"
      ],
      "metadata": {
        "colab": {
          "base_uri": "https://localhost:8080/"
        },
        "id": "fiKfjaXHp6h1",
        "outputId": "51bbb378-68f0-429b-c8a4-3e4b4bfacaa0"
      },
      "execution_count": null,
      "outputs": [
        {
          "output_type": "execute_result",
          "data": {
            "text/plain": [
              "numpy.ndarray"
            ]
          },
          "metadata": {},
          "execution_count": 8
        }
      ]
    },
    {
      "cell_type": "code",
      "source": [
        "num_2.dtype"
      ],
      "metadata": {
        "colab": {
          "base_uri": "https://localhost:8080/"
        },
        "id": "5EZN40LtrpEt",
        "outputId": "b7b94eff-a17b-4d03-f601-830b90cca206"
      },
      "execution_count": null,
      "outputs": [
        {
          "output_type": "execute_result",
          "data": {
            "text/plain": [
              "dtype('int64')"
            ]
          },
          "metadata": {},
          "execution_count": 12
        }
      ]
    },
    {
      "cell_type": "code",
      "source": [
        "num_3 = np.array([1,2,3,4,5.2])\n",
        "num_3"
      ],
      "metadata": {
        "colab": {
          "base_uri": "https://localhost:8080/"
        },
        "id": "Z9Sf_rqqp6k0",
        "outputId": "9f720b29-99c5-42d2-d7ca-69fb784f8c7e"
      },
      "execution_count": null,
      "outputs": [
        {
          "output_type": "execute_result",
          "data": {
            "text/plain": [
              "array([1. , 2. , 3. , 4. , 5.2])"
            ]
          },
          "metadata": {},
          "execution_count": 9
        }
      ]
    },
    {
      "cell_type": "code",
      "source": [
        "num_3.dtype"
      ],
      "metadata": {
        "colab": {
          "base_uri": "https://localhost:8080/"
        },
        "id": "TlCLUtFAp6n2",
        "outputId": "14ca1d70-3465-41f9-b2c3-2872ccaf41fc"
      },
      "execution_count": null,
      "outputs": [
        {
          "output_type": "execute_result",
          "data": {
            "text/plain": [
              "dtype('float64')"
            ]
          },
          "metadata": {},
          "execution_count": 11
        }
      ]
    },
    {
      "cell_type": "markdown",
      "source": [
        "**List vs Array**\n",
        "\n",
        "1. List is heteregenous but array is homogenous datatype.\n",
        "\n",
        "2. Element-wise operation is possible with array but not in lists.\n",
        "\n",
        "3. Array to list and list to array to conversion is possible but the dimension will be missed."
      ],
      "metadata": {
        "id": "F6cOLVCbrO0n"
      }
    },
    {
      "cell_type": "code",
      "source": [
        "num_2"
      ],
      "metadata": {
        "colab": {
          "base_uri": "https://localhost:8080/"
        },
        "id": "nIII2QuwrHTE",
        "outputId": "7919c1c7-731e-4b9e-f8a5-8297c70decbe"
      },
      "execution_count": null,
      "outputs": [
        {
          "output_type": "execute_result",
          "data": {
            "text/plain": [
              "array([1, 2, 3, 4])"
            ]
          },
          "metadata": {},
          "execution_count": 19
        }
      ]
    },
    {
      "cell_type": "code",
      "source": [
        "num_2 + 2"
      ],
      "metadata": {
        "colab": {
          "base_uri": "https://localhost:8080/"
        },
        "id": "0jHEnqlrra7C",
        "outputId": "0ed86618-c682-4999-c1d7-eefb9b9f3554"
      },
      "execution_count": null,
      "outputs": [
        {
          "output_type": "execute_result",
          "data": {
            "text/plain": [
              "array([3, 4, 5, 6])"
            ]
          },
          "metadata": {},
          "execution_count": 20
        }
      ]
    },
    {
      "cell_type": "markdown",
      "source": [
        "#1.Create Array"
      ],
      "metadata": {
        "id": "f3q4P9PLtePy"
      }
    },
    {
      "cell_type": "code",
      "source": [
        "arr_1 = np.array(object = [1,8,3,4])\n",
        "print(arr_1)\n",
        "print('no. of dimension         :',arr_1.ndim)  #attribute\n",
        "print('data type                :',arr_1.dtype)  #attribute\n",
        "print('index of the max value   :',arr_1.argmax()) #function"
      ],
      "metadata": {
        "colab": {
          "base_uri": "https://localhost:8080/"
        },
        "id": "0FxmGKXQra-G",
        "outputId": "fd2d2a16-e425-4f46-9cf9-766a3ca4a993"
      },
      "execution_count": null,
      "outputs": [
        {
          "output_type": "stream",
          "name": "stdout",
          "text": [
            "[1 8 3 4]\n",
            "no. of dimension         : 1\n",
            "data type                : int64\n",
            "index of the max value   : 1\n"
          ]
        }
      ]
    },
    {
      "cell_type": "code",
      "source": [
        "arr_1.cumsum()"
      ],
      "metadata": {
        "colab": {
          "base_uri": "https://localhost:8080/"
        },
        "id": "mDfv0d5DtxS1",
        "outputId": "3cb0ec72-a163-4aef-f831-d3c03b99b14f"
      },
      "execution_count": null,
      "outputs": [
        {
          "output_type": "execute_result",
          "data": {
            "text/plain": [
              "array([ 1,  9, 12, 16])"
            ]
          },
          "metadata": {},
          "execution_count": 27
        }
      ]
    },
    {
      "cell_type": "code",
      "source": [
        "arr_1.cumprod()"
      ],
      "metadata": {
        "colab": {
          "base_uri": "https://localhost:8080/"
        },
        "id": "1T5aVNh2ulmh",
        "outputId": "5c1687da-6a4e-44d7-9728-f2987033fbfa"
      },
      "execution_count": null,
      "outputs": [
        {
          "output_type": "execute_result",
          "data": {
            "text/plain": [
              "array([ 1,  8, 24, 96])"
            ]
          },
          "metadata": {},
          "execution_count": 28
        }
      ]
    },
    {
      "cell_type": "code",
      "source": [
        "arr_1.repeat(5)"
      ],
      "metadata": {
        "colab": {
          "base_uri": "https://localhost:8080/"
        },
        "id": "oB8QsxjJulp6",
        "outputId": "323d7c3a-eb28-4ed7-83a5-0ecead563d64"
      },
      "execution_count": null,
      "outputs": [
        {
          "output_type": "execute_result",
          "data": {
            "text/plain": [
              "array([1, 1, 1, 1, 1, 8, 8, 8, 8, 8, 3, 3, 3, 3, 3, 4, 4, 4, 4, 4])"
            ]
          },
          "metadata": {},
          "execution_count": 31
        }
      ]
    },
    {
      "cell_type": "markdown",
      "source": [
        "#2.Create a 2-d array"
      ],
      "metadata": {
        "id": "c2k44F0MvKvw"
      }
    },
    {
      "cell_type": "code",
      "source": [
        "arr_2 = np.array([[1,2,3],[5,6,7]])\n",
        "arr_2"
      ],
      "metadata": {
        "colab": {
          "base_uri": "https://localhost:8080/"
        },
        "id": "14NlePKIulsm",
        "outputId": "78fe7ce7-dee3-48d9-fe9f-fb66b13cbeef"
      },
      "execution_count": null,
      "outputs": [
        {
          "output_type": "execute_result",
          "data": {
            "text/plain": [
              "array([[1, 2, 3],\n",
              "       [5, 6, 7]])"
            ]
          },
          "metadata": {},
          "execution_count": 35
        }
      ]
    },
    {
      "cell_type": "code",
      "source": [
        "arr_2.ndim"
      ],
      "metadata": {
        "colab": {
          "base_uri": "https://localhost:8080/"
        },
        "id": "8ZF90VErulvK",
        "outputId": "84da4b15-2566-43d9-e196-1fc7a4894cbb"
      },
      "execution_count": null,
      "outputs": [
        {
          "output_type": "execute_result",
          "data": {
            "text/plain": [
              "2"
            ]
          },
          "metadata": {},
          "execution_count": 34
        }
      ]
    },
    {
      "cell_type": "code",
      "source": [
        "arr_2 = np.array([[1,2,3],[5,6,7],[5,9,10],[52,0,5]])\n",
        "arr_2"
      ],
      "metadata": {
        "colab": {
          "base_uri": "https://localhost:8080/"
        },
        "id": "LSEgLONovYPi",
        "outputId": "12415add-f706-4c99-a8c4-2cc590f819a5"
      },
      "execution_count": null,
      "outputs": [
        {
          "output_type": "execute_result",
          "data": {
            "text/plain": [
              "array([[ 1,  2,  3],\n",
              "       [ 5,  6,  7],\n",
              "       [ 5,  9, 10],\n",
              "       [52,  0,  5]])"
            ]
          },
          "metadata": {},
          "execution_count": 36
        }
      ]
    },
    {
      "cell_type": "code",
      "source": [
        "arr_2.ndim"
      ],
      "metadata": {
        "colab": {
          "base_uri": "https://localhost:8080/"
        },
        "id": "mym3yBoIvbMb",
        "outputId": "582185b1-6c1d-44d9-f3a7-260ed2f637dd"
      },
      "execution_count": null,
      "outputs": [
        {
          "output_type": "execute_result",
          "data": {
            "text/plain": [
              "2"
            ]
          },
          "metadata": {},
          "execution_count": 37
        }
      ]
    },
    {
      "cell_type": "markdown",
      "source": [
        "#3.Create a 3d array"
      ],
      "metadata": {
        "id": "UFM6gP4Zvu9_"
      }
    },
    {
      "cell_type": "code",
      "source": [
        "arr_3 = np.array([[[1,2,3],[5,6,7],[5,9,10],[52,0,5]]]) # to create 3d array you have to take list within a list\n",
        "arr_3 "
      ],
      "metadata": {
        "colab": {
          "base_uri": "https://localhost:8080/"
        },
        "id": "SkZtulySvbP-",
        "outputId": "f08236b9-243c-436e-93d7-c859f9fff62a"
      },
      "execution_count": null,
      "outputs": [
        {
          "output_type": "execute_result",
          "data": {
            "text/plain": [
              "array([[[ 1,  2,  3],\n",
              "        [ 5,  6,  7],\n",
              "        [ 5,  9, 10],\n",
              "        [52,  0,  5]]])"
            ]
          },
          "metadata": {},
          "execution_count": 40
        }
      ]
    },
    {
      "cell_type": "code",
      "source": [
        "arr_3.ndim"
      ],
      "metadata": {
        "colab": {
          "base_uri": "https://localhost:8080/"
        },
        "id": "qUxeeD8XvbU8",
        "outputId": "65a4a4fc-bc96-4081-ec0c-0c854edce2bd"
      },
      "execution_count": null,
      "outputs": [
        {
          "output_type": "execute_result",
          "data": {
            "text/plain": [
              "3"
            ]
          },
          "metadata": {},
          "execution_count": 41
        }
      ]
    },
    {
      "cell_type": "code",
      "source": [
        "type(arr_3)"
      ],
      "metadata": {
        "colab": {
          "base_uri": "https://localhost:8080/"
        },
        "id": "0jq06uYmwCw3",
        "outputId": "3cc8a478-a3f6-4a5b-c575-9189f91c79f8"
      },
      "execution_count": null,
      "outputs": [
        {
          "output_type": "execute_result",
          "data": {
            "text/plain": [
              "numpy.ndarray"
            ]
          },
          "metadata": {},
          "execution_count": 42
        }
      ]
    },
    {
      "cell_type": "code",
      "source": [
        "arr_3.astype(dtype = 'float')\n",
        "arr_3"
      ],
      "metadata": {
        "colab": {
          "base_uri": "https://localhost:8080/"
        },
        "id": "W5L-5QvbwFrU",
        "outputId": "51c7e781-ab8f-4d79-aa4e-259913c6d25d"
      },
      "execution_count": null,
      "outputs": [
        {
          "output_type": "execute_result",
          "data": {
            "text/plain": [
              "array([[[ 1,  2,  3],\n",
              "        [ 5,  6,  7],\n",
              "        [ 5,  9, 10],\n",
              "        [52,  0,  5]]])"
            ]
          },
          "metadata": {},
          "execution_count": 47
        }
      ]
    },
    {
      "cell_type": "code",
      "source": [
        "arr_3.dtype"
      ],
      "metadata": {
        "colab": {
          "base_uri": "https://localhost:8080/"
        },
        "id": "2q4No1IDwKdu",
        "outputId": "665c259d-1da8-455e-92a4-9b77f66f8b31"
      },
      "execution_count": null,
      "outputs": [
        {
          "output_type": "execute_result",
          "data": {
            "text/plain": [
              "dtype('int64')"
            ]
          },
          "metadata": {},
          "execution_count": 48
        }
      ]
    },
    {
      "cell_type": "markdown",
      "source": [
        "#4.Convert list to an array"
      ],
      "metadata": {
        "id": "15g3_k8_whdm"
      }
    },
    {
      "cell_type": "code",
      "source": [
        "list_1 = [[1,2,3],[5,6,7]]\n",
        "print(list_1)\n",
        "print(type(list_1))\n",
        "\n",
        "list_2_array = np.array(object = list_1)\n",
        "print(\"list to array:\\n\", list_2_array)\n",
        "print(\"Dimensions    :\", list_2_array.ndim)"
      ],
      "metadata": {
        "colab": {
          "base_uri": "https://localhost:8080/"
        },
        "id": "AgrZM0oiwPNB",
        "outputId": "d3917222-09ee-4e32-c3f1-647900df1044"
      },
      "execution_count": null,
      "outputs": [
        {
          "output_type": "stream",
          "name": "stdout",
          "text": [
            "[[1, 2, 3], [5, 6, 7]]\n",
            "<class 'list'>\n",
            "list to array:\n",
            " [[1 2 3]\n",
            " [5 6 7]]\n",
            "Dimensions    : 2\n"
          ]
        }
      ]
    },
    {
      "cell_type": "markdown",
      "source": [
        "#5.Convert array to list"
      ],
      "metadata": {
        "id": "vYD5_CKdwcr_"
      }
    },
    {
      "cell_type": "code",
      "source": [
        "arr_4 = np.array([[1,2,3],[5,6,7]])\n",
        "print(arr_4)\n",
        "print(type(arr_4))\n",
        "print('dimension :',arr_4.ndim)"
      ],
      "metadata": {
        "colab": {
          "base_uri": "https://localhost:8080/"
        },
        "id": "QZjIkjb6wmnX",
        "outputId": "64f48d4b-89b4-4da6-9b68-b5d2c7fc4b42"
      },
      "execution_count": null,
      "outputs": [
        {
          "output_type": "stream",
          "name": "stdout",
          "text": [
            "[[1 2 3]\n",
            " [5 6 7]]\n",
            "<class 'numpy.ndarray'>\n",
            "dimension : 2\n"
          ]
        }
      ]
    },
    {
      "cell_type": "code",
      "source": [
        "arr_2_list = arr_4.tolist()\n",
        "print(arr_2_list)\n",
        "print(type(arr_2_list))"
      ],
      "metadata": {
        "colab": {
          "base_uri": "https://localhost:8080/"
        },
        "id": "Kklzt5VfwmqQ",
        "outputId": "93531ea7-d07d-4379-c304-0871bddf4d46"
      },
      "execution_count": null,
      "outputs": [
        {
          "output_type": "stream",
          "name": "stdout",
          "text": [
            "[[1, 2, 3], [5, 6, 7]]\n",
            "<class 'list'>\n"
          ]
        }
      ]
    },
    {
      "cell_type": "markdown",
      "source": [
        "#6.Statiscal Operations with Numpy"
      ],
      "metadata": {
        "id": "75GX1eg_zJmZ"
      }
    },
    {
      "cell_type": "code",
      "source": [
        "arr_5 = np.array([1,5,6,9,7,8,5,3,2,7])"
      ],
      "metadata": {
        "id": "25-mjBoNwms0"
      },
      "execution_count": null,
      "outputs": []
    },
    {
      "cell_type": "code",
      "source": [
        "arr_5"
      ],
      "metadata": {
        "colab": {
          "base_uri": "https://localhost:8080/"
        },
        "id": "prh7-f_Fwmvi",
        "outputId": "6b43f96e-d2d8-4139-b9c4-f16dbd769c86"
      },
      "execution_count": null,
      "outputs": [
        {
          "output_type": "execute_result",
          "data": {
            "text/plain": [
              "array([1, 5, 6, 9, 7, 8, 5, 3, 2, 7])"
            ]
          },
          "metadata": {},
          "execution_count": 57
        }
      ]
    },
    {
      "cell_type": "code",
      "source": [
        "np.mean(arr_5)"
      ],
      "metadata": {
        "colab": {
          "base_uri": "https://localhost:8080/"
        },
        "id": "bS4h0u03wm0H",
        "outputId": "04217064-ffc0-4f15-b08e-3aa26063bc03"
      },
      "execution_count": null,
      "outputs": [
        {
          "output_type": "execute_result",
          "data": {
            "text/plain": [
              "5.3"
            ]
          },
          "metadata": {},
          "execution_count": 58
        }
      ]
    },
    {
      "cell_type": "code",
      "source": [
        "np.min(arr_5)"
      ],
      "metadata": {
        "colab": {
          "base_uri": "https://localhost:8080/"
        },
        "id": "_CS15b8Pzic1",
        "outputId": "fdded892-c487-4e76-9530-2491c3025498"
      },
      "execution_count": null,
      "outputs": [
        {
          "output_type": "execute_result",
          "data": {
            "text/plain": [
              "1"
            ]
          },
          "metadata": {},
          "execution_count": 59
        }
      ]
    },
    {
      "cell_type": "code",
      "source": [
        "np.max(arr_5)"
      ],
      "metadata": {
        "colab": {
          "base_uri": "https://localhost:8080/"
        },
        "id": "wC7A5ewazkr1",
        "outputId": "2be7223b-d2f0-4231-ae35-0e30e06c0107"
      },
      "execution_count": null,
      "outputs": [
        {
          "output_type": "execute_result",
          "data": {
            "text/plain": [
              "9"
            ]
          },
          "metadata": {},
          "execution_count": 60
        }
      ]
    },
    {
      "cell_type": "code",
      "source": [
        "np.std(arr_5)"
      ],
      "metadata": {
        "colab": {
          "base_uri": "https://localhost:8080/"
        },
        "id": "fhIYZhmLzmMC",
        "outputId": "7668b32f-71b9-4fed-faf2-74eb1d0582ec"
      },
      "execution_count": null,
      "outputs": [
        {
          "output_type": "execute_result",
          "data": {
            "text/plain": [
              "2.4919871588754225"
            ]
          },
          "metadata": {},
          "execution_count": 61
        }
      ]
    },
    {
      "cell_type": "markdown",
      "source": [
        "#7.Reshape"
      ],
      "metadata": {
        "id": "YoU0wwoA0ZGM"
      }
    },
    {
      "cell_type": "code",
      "source": [
        "arr_4\n"
      ],
      "metadata": {
        "colab": {
          "base_uri": "https://localhost:8080/"
        },
        "id": "urkEtz0IznrX",
        "outputId": "49f8e2d7-61b6-43f8-89f8-b39096d9b7c0"
      },
      "execution_count": null,
      "outputs": [
        {
          "output_type": "execute_result",
          "data": {
            "text/plain": [
              "array([[1, 2, 3],\n",
              "       [5, 6, 7]])"
            ]
          },
          "metadata": {},
          "execution_count": 62
        }
      ]
    },
    {
      "cell_type": "code",
      "source": [
        "arr_4.ndim"
      ],
      "metadata": {
        "colab": {
          "base_uri": "https://localhost:8080/"
        },
        "id": "VgILdO5j0eV7",
        "outputId": "dbbd4afd-e20e-4abc-c298-5d510b552011"
      },
      "execution_count": null,
      "outputs": [
        {
          "output_type": "execute_result",
          "data": {
            "text/plain": [
              "2"
            ]
          },
          "metadata": {},
          "execution_count": 63
        }
      ]
    },
    {
      "cell_type": "code",
      "source": [
        "arr_6 = arr_4.reshape(1,6)\n",
        "arr_6"
      ],
      "metadata": {
        "colab": {
          "base_uri": "https://localhost:8080/"
        },
        "id": "mlYsoH7F0pSH",
        "outputId": "e5a35d19-78bf-404e-dc09-57e4975d2493"
      },
      "execution_count": null,
      "outputs": [
        {
          "output_type": "execute_result",
          "data": {
            "text/plain": [
              "array([[1, 2, 3, 5, 6, 7]])"
            ]
          },
          "metadata": {},
          "execution_count": 65
        }
      ]
    },
    {
      "cell_type": "code",
      "source": [
        "arr_6.ndim"
      ],
      "metadata": {
        "colab": {
          "base_uri": "https://localhost:8080/"
        },
        "id": "FxKncPnD0s5E",
        "outputId": "21060404-2402-4b28-81b6-7156cb4c37db"
      },
      "execution_count": null,
      "outputs": [
        {
          "output_type": "execute_result",
          "data": {
            "text/plain": [
              "2"
            ]
          },
          "metadata": {},
          "execution_count": 66
        }
      ]
    },
    {
      "cell_type": "code",
      "source": [
        "arr_6.shape"
      ],
      "metadata": {
        "colab": {
          "base_uri": "https://localhost:8080/"
        },
        "id": "SN1dNfJy0s8j",
        "outputId": "cc83c55c-cce8-457a-8d80-1945e65cf403"
      },
      "execution_count": null,
      "outputs": [
        {
          "output_type": "execute_result",
          "data": {
            "text/plain": [
              "(1, 6)"
            ]
          },
          "metadata": {},
          "execution_count": 67
        }
      ]
    },
    {
      "cell_type": "markdown",
      "source": [
        "#8.Convert n-dim array to 1D array using 'Flatten' method"
      ],
      "metadata": {
        "id": "VNRzxfRy1Jzk"
      }
    },
    {
      "cell_type": "code",
      "source": [
        "arr_4"
      ],
      "metadata": {
        "colab": {
          "base_uri": "https://localhost:8080/"
        },
        "id": "mNTTP0Qm0tBd",
        "outputId": "774eb534-58cb-4a8b-b74b-5be03686d622"
      },
      "execution_count": null,
      "outputs": [
        {
          "output_type": "execute_result",
          "data": {
            "text/plain": [
              "array([[1, 2, 3],\n",
              "       [5, 6, 7]])"
            ]
          },
          "metadata": {},
          "execution_count": 68
        }
      ]
    },
    {
      "cell_type": "code",
      "source": [
        "arr_4.ndim"
      ],
      "metadata": {
        "colab": {
          "base_uri": "https://localhost:8080/"
        },
        "id": "QvTMXHDv1iDv",
        "outputId": "052ba0c7-cf9e-41c1-ae1e-2a3c6cbc0fe1"
      },
      "execution_count": null,
      "outputs": [
        {
          "output_type": "execute_result",
          "data": {
            "text/plain": [
              "2"
            ]
          },
          "metadata": {},
          "execution_count": 72
        }
      ]
    },
    {
      "cell_type": "code",
      "source": [
        "arr_7 = arr_4.flatten() #return a copy of the array collapsed into one dimension\n",
        "arr_7"
      ],
      "metadata": {
        "colab": {
          "base_uri": "https://localhost:8080/"
        },
        "id": "X0McdAcs0tFD",
        "outputId": "6626c050-8f5c-4e6e-b61d-cbac5522db1f"
      },
      "execution_count": null,
      "outputs": [
        {
          "output_type": "execute_result",
          "data": {
            "text/plain": [
              "array([1, 2, 3, 5, 6, 7])"
            ]
          },
          "metadata": {},
          "execution_count": 70
        }
      ]
    },
    {
      "cell_type": "code",
      "source": [
        "arr_7.ndim"
      ],
      "metadata": {
        "colab": {
          "base_uri": "https://localhost:8080/"
        },
        "id": "j8RMfPA61TlB",
        "outputId": "6b76afb8-6eb0-47b4-9a2c-259aea108179"
      },
      "execution_count": null,
      "outputs": [
        {
          "output_type": "execute_result",
          "data": {
            "text/plain": [
              "1"
            ]
          },
          "metadata": {},
          "execution_count": 71
        }
      ]
    },
    {
      "cell_type": "markdown",
      "source": [
        "#9.Sequencing, Repetition and Random Numbers"
      ],
      "metadata": {
        "id": "ikH4HlwA2L52"
      }
    },
    {
      "cell_type": "code",
      "source": [
        "np.arange(1,12,1)"
      ],
      "metadata": {
        "colab": {
          "base_uri": "https://localhost:8080/"
        },
        "id": "fPFKZ70Y1fHY",
        "outputId": "5c8f18eb-afe7-40fe-a872-6f9280c8d9f4"
      },
      "execution_count": null,
      "outputs": [
        {
          "output_type": "execute_result",
          "data": {
            "text/plain": [
              "array([ 1,  2,  3,  4,  5,  6,  7,  8,  9, 10, 11])"
            ]
          },
          "metadata": {},
          "execution_count": 73
        }
      ]
    },
    {
      "cell_type": "code",
      "source": [
        "np.linspace(start = 2,stop = 100, num = 5)\n",
        "#return evenly spaces numbers over a specified interval."
      ],
      "metadata": {
        "colab": {
          "base_uri": "https://localhost:8080/"
        },
        "id": "hoNyVmCS2S0H",
        "outputId": "bd310f62-dc8e-4a25-924c-f4a58eb4c4d8"
      },
      "execution_count": null,
      "outputs": [
        {
          "output_type": "execute_result",
          "data": {
            "text/plain": [
              "array([  2. ,  26.5,  51. ,  75.5, 100. ])"
            ]
          },
          "metadata": {},
          "execution_count": 75
        }
      ]
    },
    {
      "cell_type": "code",
      "source": [
        "np.zeros(shape = (5,5))"
      ],
      "metadata": {
        "colab": {
          "base_uri": "https://localhost:8080/"
        },
        "id": "omC7kvIw2S3D",
        "outputId": "83572a91-33f1-4a98-c1c3-aa72261bf5e6"
      },
      "execution_count": null,
      "outputs": [
        {
          "output_type": "execute_result",
          "data": {
            "text/plain": [
              "array([[0., 0., 0., 0., 0.],\n",
              "       [0., 0., 0., 0., 0.],\n",
              "       [0., 0., 0., 0., 0.],\n",
              "       [0., 0., 0., 0., 0.],\n",
              "       [0., 0., 0., 0., 0.]])"
            ]
          },
          "metadata": {},
          "execution_count": 78
        }
      ]
    },
    {
      "cell_type": "code",
      "source": [
        "np.ones(shape = (5,5))"
      ],
      "metadata": {
        "colab": {
          "base_uri": "https://localhost:8080/"
        },
        "id": "zkSJbjdC2S56",
        "outputId": "034be581-3ad5-4bd3-8ff1-94c93ae06be0"
      },
      "execution_count": null,
      "outputs": [
        {
          "output_type": "execute_result",
          "data": {
            "text/plain": [
              "array([[1., 1., 1., 1., 1.],\n",
              "       [1., 1., 1., 1., 1.],\n",
              "       [1., 1., 1., 1., 1.],\n",
              "       [1., 1., 1., 1., 1.],\n",
              "       [1., 1., 1., 1., 1.]])"
            ]
          },
          "metadata": {},
          "execution_count": 79
        }
      ]
    },
    {
      "cell_type": "code",
      "source": [
        "arr_4"
      ],
      "metadata": {
        "colab": {
          "base_uri": "https://localhost:8080/"
        },
        "id": "-Cl6tYJC2S_I",
        "outputId": "f165bf8f-1764-4b47-86de-92ee92e0beb1"
      },
      "execution_count": null,
      "outputs": [
        {
          "output_type": "execute_result",
          "data": {
            "text/plain": [
              "array([[1, 2, 3],\n",
              "       [5, 6, 7]])"
            ]
          },
          "metadata": {},
          "execution_count": 80
        }
      ]
    },
    {
      "cell_type": "code",
      "source": [
        "arr_4.repeat(repeats = 5,axis = 0)"
      ],
      "metadata": {
        "colab": {
          "base_uri": "https://localhost:8080/"
        },
        "id": "jvMjXgDf2TCp",
        "outputId": "c00fbce6-ebb4-4475-9390-f00191710811"
      },
      "execution_count": null,
      "outputs": [
        {
          "output_type": "execute_result",
          "data": {
            "text/plain": [
              "array([[1, 2, 3],\n",
              "       [1, 2, 3],\n",
              "       [1, 2, 3],\n",
              "       [1, 2, 3],\n",
              "       [1, 2, 3],\n",
              "       [5, 6, 7],\n",
              "       [5, 6, 7],\n",
              "       [5, 6, 7],\n",
              "       [5, 6, 7],\n",
              "       [5, 6, 7]])"
            ]
          },
          "metadata": {},
          "execution_count": 99
        }
      ]
    },
    {
      "cell_type": "code",
      "source": [
        "random_numbers = np.random.rand(5,10)\n",
        "random_numbers"
      ],
      "metadata": {
        "colab": {
          "base_uri": "https://localhost:8080/"
        },
        "id": "atMrJZPt3spA",
        "outputId": "ec468bdd-e855-4788-d400-80a35678bd66"
      },
      "execution_count": null,
      "outputs": [
        {
          "output_type": "execute_result",
          "data": {
            "text/plain": [
              "array([[0.80381074, 0.83571628, 0.87786278, 0.75154066, 0.73340492,\n",
              "        0.64062193, 0.97686463, 0.49625635, 0.56299417, 0.14311158],\n",
              "       [0.72010093, 0.48634151, 0.36749099, 0.94953059, 0.34233984,\n",
              "        0.2098815 , 0.31736395, 0.88895172, 0.31683855, 0.38849843],\n",
              "       [0.06901746, 0.24968864, 0.43202816, 0.90144402, 0.40898911,\n",
              "        0.66797307, 0.30821125, 0.36256586, 0.47374761, 0.70783719],\n",
              "       [0.74843404, 0.30129004, 0.88819834, 0.45290727, 0.31978433,\n",
              "        0.49764933, 0.02983044, 0.89320296, 0.9024584 , 0.36179067],\n",
              "       [0.87956538, 0.20155857, 0.85540208, 0.56754668, 0.50103958,\n",
              "        0.18135607, 0.35744138, 0.15696555, 0.0269055 , 0.75433733]])"
            ]
          },
          "metadata": {},
          "execution_count": 100
        }
      ]
    },
    {
      "cell_type": "code",
      "source": [
        "np.random.seed(12) #using random.seed the random numbers will be generated only once. Also you can give any value inside the function.\n",
        "\n",
        "random_numbers_from_std_distribution = np.random.randn(5,10)\n",
        "random_numbers_from_std_distribution"
      ],
      "metadata": {
        "colab": {
          "base_uri": "https://localhost:8080/"
        },
        "id": "1qieKKbI39A4",
        "outputId": "d1889092-7074-4af1-bb05-2251bff882c2"
      },
      "execution_count": null,
      "outputs": [
        {
          "output_type": "execute_result",
          "data": {
            "text/plain": [
              "array([[ 0.47298583, -0.68142588,  0.2424395 , -1.70073563,  0.75314283,\n",
              "        -1.53472134,  0.00512708, -0.12022767, -0.80698188,  2.87181939],\n",
              "       [-0.59782292,  0.47245699,  1.09595612, -1.2151688 ,  1.34235637,\n",
              "        -0.12214979,  1.01251548, -0.91386915, -1.02953021,  1.20979645],\n",
              "       [ 0.5018723 ,  0.13884618,  0.64076111,  0.52733267, -1.15436024,\n",
              "        -2.21333348, -1.68175651, -1.78809425, -2.21853495, -0.64743078],\n",
              "       [-0.52840432, -0.03920917,  0.21497595, -0.3843588 , -0.25390408,\n",
              "         0.07325207, -0.99720384, -0.71385629,  0.03541635, -0.67794537],\n",
              "       [-0.57188106, -0.10586232,  1.33583134,  0.31866529, -0.33759525,\n",
              "        -0.58526828, -0.11491994,  2.24181779, -3.14741652,  0.53513589]])"
            ]
          },
          "metadata": {},
          "execution_count": 113
        }
      ]
    },
    {
      "cell_type": "code",
      "source": [
        "import matplotlib.pyplot as plt"
      ],
      "metadata": {
        "id": "ng-VpM334KdV"
      },
      "execution_count": null,
      "outputs": []
    },
    {
      "cell_type": "code",
      "source": [
        "plt.hist(random_numbers)\n",
        "plt.show"
      ],
      "metadata": {
        "colab": {
          "base_uri": "https://localhost:8080/",
          "height": 282
        },
        "id": "jZqnksSo4_5T",
        "outputId": "9c7ff9e0-1591-4eb0-bd49-f1d978c04b4f"
      },
      "execution_count": null,
      "outputs": [
        {
          "output_type": "execute_result",
          "data": {
            "text/plain": [
              "<function matplotlib.pyplot.show(*args, **kw)>"
            ]
          },
          "metadata": {},
          "execution_count": 106
        },
        {
          "output_type": "display_data",
          "data": {
            "text/plain": [
              "<Figure size 432x288 with 1 Axes>"
            ],
            "image/png": "[encoded data removed]"
          },
          "metadata": {
            "needs_background": "light"
          }
        }
      ]
    },
    {
      "cell_type": "code",
      "source": [
        "plt.hist(random_numbers_from_std_distribution)\n",
        "plt.show"
      ],
      "metadata": {
        "colab": {
          "base_uri": "https://localhost:8080/",
          "height": 282
        },
        "id": "w91MzVEw4fmK",
        "outputId": "9a4e11ab-bbc4-4ebe-8619-c93cf3714b8f"
      },
      "execution_count": null,
      "outputs": [
        {
          "output_type": "execute_result",
          "data": {
            "text/plain": [
              "<function matplotlib.pyplot.show(*args, **kw)>"
            ]
          },
          "metadata": {},
          "execution_count": 94
        },
        {
          "output_type": "display_data",
          "data": {
            "text/plain": [
              "<Figure size 432x288 with 1 Axes>"
            ],
            "image/png": "[encoded data removed]"
          },
          "metadata": {
            "needs_background": "light"
          }
        }
      ]
    },
    {
      "cell_type": "code",
      "source": [
        "#End"
      ],
      "metadata": {
        "id": "aPK4R1pR4fpa"
      },
      "execution_count": null,
      "outputs": []
    }
  ]
}