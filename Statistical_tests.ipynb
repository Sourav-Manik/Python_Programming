{
  "nbformat": 4,
  "nbformat_minor": 0,
  "metadata": {
    "colab": {
      "provenance": [],
      "authorship_tag": "ABX9TyPHD6glBuTo3P0Kll7Wv1ni",
      "include_colab_link": true
    },
    "kernelspec": {
      "name": "python3",
      "display_name": "Python 3"
    },
    "language_info": {
      "name": "python"
    }
  },
  "cells": [
    {
      "cell_type": "markdown",
      "metadata": {
        "id": "view-in-github",
        "colab_type": "text"
      },
      "source": [
        "<a href=\"https://colab.research.google.com/github/Sourav-Manik/Python_Programming/blob/main/Statistical_tests.ipynb\" target=\"_parent\"><img src=\"https://colab.research.google.com/assets/colab-badge.svg\" alt=\"Open In Colab\"/></a>"
      ]
    },
    {
      "cell_type": "markdown",
      "source": [
        "#A.Chi Square test"
      ],
      "metadata": {
        "id": "1AkzzSaIhayM"
      }
    },
    {
      "cell_type": "code",
      "execution_count": null,
      "metadata": {
        "id": "ziz6yLLCg-Pf"
      },
      "outputs": [],
      "source": [
        "import seaborn as sns\n",
        "from seaborn import load_dataset"
      ]
    },
    {
      "cell_type": "code",
      "source": [
        "sns.get_dataset_names()"
      ],
      "metadata": {
        "colab": {
          "base_uri": "https://localhost:8080/"
        },
        "id": "c-zbsDBqhHCU",
        "outputId": "d0323d1d-03c8-426b-afeb-8e316da71e3d"
      },
      "execution_count": null,
      "outputs": [
        {
          "output_type": "execute_result",
          "data": {
            "text/plain": [
              "['anagrams',\n",
              " 'anscombe',\n",
              " 'attention',\n",
              " 'brain_networks',\n",
              " 'car_crashes',\n",
              " 'diamonds',\n",
              " 'dots',\n",
              " 'dowjones',\n",
              " 'exercise',\n",
              " 'flights',\n",
              " 'fmri',\n",
              " 'geyser',\n",
              " 'glue',\n",
              " 'healthexp',\n",
              " 'iris',\n",
              " 'mpg',\n",
              " 'penguins',\n",
              " 'planets',\n",
              " 'seaice',\n",
              " 'taxis',\n",
              " 'tips',\n",
              " 'titanic']"
            ]
          },
          "metadata": {},
          "execution_count": 2
        }
      ]
    },
    {
      "cell_type": "code",
      "source": [
        "tips_data = load_dataset('tips')\n",
        "tips_data"
      ],
      "metadata": {
        "colab": {
          "base_uri": "https://localhost:8080/",
          "height": 424
        },
        "id": "q3BZPAtfhKGf",
        "outputId": "69549fd7-3ba0-4034-fb88-aff2bc6ae6d6"
      },
      "execution_count": null,
      "outputs": [
        {
          "output_type": "execute_result",
          "data": {
            "text/plain": [
              "     total_bill   tip     sex smoker   day    time  size\n",
              "0         16.99  1.01  Female     No   Sun  Dinner     2\n",
              "1         10.34  1.66    Male     No   Sun  Dinner     3\n",
              "2         21.01  3.50    Male     No   Sun  Dinner     3\n",
              "3         23.68  3.31    Male     No   Sun  Dinner     2\n",
              "4         24.59  3.61  Female     No   Sun  Dinner     4\n",
              "..          ...   ...     ...    ...   ...     ...   ...\n",
              "239       29.03  5.92    Male     No   Sat  Dinner     3\n",
              "240       27.18  2.00  Female    Yes   Sat  Dinner     2\n",
              "241       22.67  2.00    Male    Yes   Sat  Dinner     2\n",
              "242       17.82  1.75    Male     No   Sat  Dinner     2\n",
              "243       18.78  3.00  Female     No  Thur  Dinner     2\n",
              "\n",
              "[244 rows x 7 columns]"
            ],
            "text/html": [
              "\n",
              "  <div id=\"df-738eecb9-d731-4df5-866f-ffdc5d93753a\">\n",
              "    <div class=\"colab-df-container\">\n",
              "      <div>\n",
              "<style scoped>\n",
              "    .dataframe tbody tr th:only-of-type {\n",
              "        vertical-align: middle;\n",
              "    }\n",
              "\n",
              "    .dataframe tbody tr th {\n",
              "        vertical-align: top;\n",
              "    }\n",
              "\n",
              "    .dataframe thead th {\n",
              "        text-align: right;\n",
              "    }\n",
              "</style>\n",
              "<table border=\"1\" class=\"dataframe\">\n",
              "  <thead>\n",
              "    <tr style=\"text-align: right;\">\n",
              "      <th></th>\n",
              "      <th>total_bill</th>\n",
              "      <th>tip</th>\n",
              "      <th>sex</th>\n",
              "      <th>smoker</th>\n",
              "      <th>day</th>\n",
              "      <th>time</th>\n",
              "      <th>size</th>\n",
              "    </tr>\n",
              "  </thead>\n",
              "  <tbody>\n",
              "    <tr>\n",
              "      <th>0</th>\n",
              "      <td>16.99</td>\n",
              "      <td>1.01</td>\n",
              "      <td>Female</td>\n",
              "      <td>No</td>\n",
              "      <td>Sun</td>\n",
              "      <td>Dinner</td>\n",
              "      <td>2</td>\n",
              "    </tr>\n",
              "    <tr>\n",
              "      <th>1</th>\n",
              "      <td>10.34</td>\n",
              "      <td>1.66</td>\n",
              "      <td>Male</td>\n",
              "      <td>No</td>\n",
              "      <td>Sun</td>\n",
              "      <td>Dinner</td>\n",
              "      <td>3</td>\n",
              "    </tr>\n",
              "    <tr>\n",
              "      <th>2</th>\n",
              "      <td>21.01</td>\n",
              "      <td>3.50</td>\n",
              "      <td>Male</td>\n",
              "      <td>No</td>\n",
              "      <td>Sun</td>\n",
              "      <td>Dinner</td>\n",
              "      <td>3</td>\n",
              "    </tr>\n",
              "    <tr>\n",
              "      <th>3</th>\n",
              "      <td>23.68</td>\n",
              "      <td>3.31</td>\n",
              "      <td>Male</td>\n",
              "      <td>No</td>\n",
              "      <td>Sun</td>\n",
              "      <td>Dinner</td>\n",
              "      <td>2</td>\n",
              "    </tr>\n",
              "    <tr>\n",
              "      <th>4</th>\n",
              "      <td>24.59</td>\n",
              "      <td>3.61</td>\n",
              "      <td>Female</td>\n",
              "      <td>No</td>\n",
              "      <td>Sun</td>\n",
              "      <td>Dinner</td>\n",
              "      <td>4</td>\n",
              "    </tr>\n",
              "    <tr>\n",
              "      <th>...</th>\n",
              "      <td>...</td>\n",
              "      <td>...</td>\n",
              "      <td>...</td>\n",
              "      <td>...</td>\n",
              "      <td>...</td>\n",
              "      <td>...</td>\n",
              "      <td>...</td>\n",
              "    </tr>\n",
              "    <tr>\n",
              "      <th>239</th>\n",
              "      <td>29.03</td>\n",
              "      <td>5.92</td>\n",
              "      <td>Male</td>\n",
              "      <td>No</td>\n",
              "      <td>Sat</td>\n",
              "      <td>Dinner</td>\n",
              "      <td>3</td>\n",
              "    </tr>\n",
              "    <tr>\n",
              "      <th>240</th>\n",
              "      <td>27.18</td>\n",
              "      <td>2.00</td>\n",
              "      <td>Female</td>\n",
              "      <td>Yes</td>\n",
              "      <td>Sat</td>\n",
              "      <td>Dinner</td>\n",
              "      <td>2</td>\n",
              "    </tr>\n",
              "    <tr>\n",
              "      <th>241</th>\n",
              "      <td>22.67</td>\n",
              "      <td>2.00</td>\n",
              "      <td>Male</td>\n",
              "      <td>Yes</td>\n",
              "      <td>Sat</td>\n",
              "      <td>Dinner</td>\n",
              "      <td>2</td>\n",
              "    </tr>\n",
              "    <tr>\n",
              "      <th>242</th>\n",
              "      <td>17.82</td>\n",
              "      <td>1.75</td>\n",
              "      <td>Male</td>\n",
              "      <td>No</td>\n",
              "      <td>Sat</td>\n",
              "      <td>Dinner</td>\n",
              "      <td>2</td>\n",
              "    </tr>\n",
              "    <tr>\n",
              "      <th>243</th>\n",
              "      <td>18.78</td>\n",
              "      <td>3.00</td>\n",
              "      <td>Female</td>\n",
              "      <td>No</td>\n",
              "      <td>Thur</td>\n",
              "      <td>Dinner</td>\n",
              "      <td>2</td>\n",
              "    </tr>\n",
              "  </tbody>\n",
              "</table>\n",
              "<p>244 rows × 7 columns</p>\n",
              "</div>\n",
              "      <button class=\"colab-df-convert\" onclick=\"convertToInteractive('df-738eecb9-d731-4df5-866f-ffdc5d93753a')\"\n",
              "              title=\"Convert this dataframe to an interactive table.\"\n",
              "              style=\"display:none;\">\n",
              "        \n",
              "  <svg xmlns=\"http://www.w3.org/2000/svg\" height=\"24px\"viewBox=\"0 0 24 24\"\n",
              "       width=\"24px\">\n",
              "    <path d=\"M0 0h24v24H0V0z\" fill=\"none\"/>\n",
              "    <path d=\"M18.56 5.44l.94 2.06.94-2.06 2.06-.94-2.06-.94-.94-2.06-.94 2.06-2.06.94zm-11 1L8.5 8.5l.94-2.06 2.06-.94-2.06-.94L8.5 2.5l-.94 2.06-2.06.94zm10 10l.94 2.06.94-2.06 2.06-.94-2.06-.94-.94-2.06-.94 2.06-2.06.94z\"/><path d=\"M17.41 7.96l-1.37-1.37c-.4-.4-.92-.59-1.43-.59-.52 0-1.04.2-1.43.59L10.3 9.45l-7.72 7.72c-.78.78-.78 2.05 0 2.83L4 21.41c.39.39.9.59 1.41.59.51 0 1.02-.2 1.41-.59l7.78-7.78 2.81-2.81c.8-.78.8-2.07 0-2.86zM5.41 20L4 18.59l7.72-7.72 1.47 1.35L5.41 20z\"/>\n",
              "  </svg>\n",
              "      </button>\n",
              "      \n",
              "  <style>\n",
              "    .colab-df-container {\n",
              "      display:flex;\n",
              "      flex-wrap:wrap;\n",
              "      gap: 12px;\n",
              "    }\n",
              "\n",
              "    .colab-df-convert {\n",
              "      background-color: #E8F0FE;\n",
              "      border: none;\n",
              "      border-radius: 50%;\n",
              "      cursor: pointer;\n",
              "      display: none;\n",
              "      fill: #1967D2;\n",
              "      height: 32px;\n",
              "      padding: 0 0 0 0;\n",
              "      width: 32px;\n",
              "    }\n",
              "\n",
              "    .colab-df-convert:hover {\n",
              "      background-color: #E2EBFA;\n",
              "      box-shadow: 0px 1px 2px rgba(60, 64, 67, 0.3), 0px 1px 3px 1px rgba(60, 64, 67, 0.15);\n",
              "      fill: #174EA6;\n",
              "    }\n",
              "\n",
              "    [theme=dark] .colab-df-convert {\n",
              "      background-color: #3B4455;\n",
              "      fill: #D2E3FC;\n",
              "    }\n",
              "\n",
              "    [theme=dark] .colab-df-convert:hover {\n",
              "      background-color: #434B5C;\n",
              "      box-shadow: 0px 1px 3px 1px rgba(0, 0, 0, 0.15);\n",
              "      filter: drop-shadow(0px 1px 2px rgba(0, 0, 0, 0.3));\n",
              "      fill: #FFFFFF;\n",
              "    }\n",
              "  </style>\n",
              "\n",
              "      <script>\n",
              "        const buttonEl =\n",
              "          document.querySelector('#df-738eecb9-d731-4df5-866f-ffdc5d93753a button.colab-df-convert');\n",
              "        buttonEl.style.display =\n",
              "          google.colab.kernel.accessAllowed ? 'block' : 'none';\n",
              "\n",
              "        async function convertToInteractive(key) {\n",
              "          const element = document.querySelector('#df-738eecb9-d731-4df5-866f-ffdc5d93753a');\n",
              "          const dataTable =\n",
              "            await google.colab.kernel.invokeFunction('convertToInteractive',\n",
              "                                                     [key], {});\n",
              "          if (!dataTable) return;\n",
              "\n",
              "          const docLinkHtml = 'Like what you see? Visit the ' +\n",
              "            '<a target=\"_blank\" href=https://colab.research.google.com/notebooks/data_table.ipynb>data table notebook</a>'\n",
              "            + ' to learn more about interactive tables.';\n",
              "          element.innerHTML = '';\n",
              "          dataTable['output_type'] = 'display_data';\n",
              "          await google.colab.output.renderOutput(dataTable, element);\n",
              "          const docLink = document.createElement('div');\n",
              "          docLink.innerHTML = docLinkHtml;\n",
              "          element.appendChild(docLink);\n",
              "        }\n",
              "      </script>\n",
              "    </div>\n",
              "  </div>\n",
              "  "
            ]
          },
          "metadata": {},
          "execution_count": 3
        }
      ]
    },
    {
      "cell_type": "code",
      "source": [
        "import pandas as pd\n",
        "df = pd.crosstab(index = tips_data['sex'],columns = tips_data['smoker'])\n",
        "df"
      ],
      "metadata": {
        "colab": {
          "base_uri": "https://localhost:8080/",
          "height": 143
        },
        "id": "mX3wC6o7hUJ6",
        "outputId": "72a192da-eb11-4e18-a07d-be85f51cda0a"
      },
      "execution_count": null,
      "outputs": [
        {
          "output_type": "execute_result",
          "data": {
            "text/plain": [
              "smoker  Yes  No\n",
              "sex            \n",
              "Male     60  97\n",
              "Female   33  54"
            ],
            "text/html": [
              "\n",
              "  <div id=\"df-6e9c8724-3815-4b3b-98a7-8aceca19ce67\">\n",
              "    <div class=\"colab-df-container\">\n",
              "      <div>\n",
              "<style scoped>\n",
              "    .dataframe tbody tr th:only-of-type {\n",
              "        vertical-align: middle;\n",
              "    }\n",
              "\n",
              "    .dataframe tbody tr th {\n",
              "        vertical-align: top;\n",
              "    }\n",
              "\n",
              "    .dataframe thead th {\n",
              "        text-align: right;\n",
              "    }\n",
              "</style>\n",
              "<table border=\"1\" class=\"dataframe\">\n",
              "  <thead>\n",
              "    <tr style=\"text-align: right;\">\n",
              "      <th>smoker</th>\n",
              "      <th>Yes</th>\n",
              "      <th>No</th>\n",
              "    </tr>\n",
              "    <tr>\n",
              "      <th>sex</th>\n",
              "      <th></th>\n",
              "      <th></th>\n",
              "    </tr>\n",
              "  </thead>\n",
              "  <tbody>\n",
              "    <tr>\n",
              "      <th>Male</th>\n",
              "      <td>60</td>\n",
              "      <td>97</td>\n",
              "    </tr>\n",
              "    <tr>\n",
              "      <th>Female</th>\n",
              "      <td>33</td>\n",
              "      <td>54</td>\n",
              "    </tr>\n",
              "  </tbody>\n",
              "</table>\n",
              "</div>\n",
              "      <button class=\"colab-df-convert\" onclick=\"convertToInteractive('df-6e9c8724-3815-4b3b-98a7-8aceca19ce67')\"\n",
              "              title=\"Convert this dataframe to an interactive table.\"\n",
              "              style=\"display:none;\">\n",
              "        \n",
              "  <svg xmlns=\"http://www.w3.org/2000/svg\" height=\"24px\"viewBox=\"0 0 24 24\"\n",
              "       width=\"24px\">\n",
              "    <path d=\"M0 0h24v24H0V0z\" fill=\"none\"/>\n",
              "    <path d=\"M18.56 5.44l.94 2.06.94-2.06 2.06-.94-2.06-.94-.94-2.06-.94 2.06-2.06.94zm-11 1L8.5 8.5l.94-2.06 2.06-.94-2.06-.94L8.5 2.5l-.94 2.06-2.06.94zm10 10l.94 2.06.94-2.06 2.06-.94-2.06-.94-.94-2.06-.94 2.06-2.06.94z\"/><path d=\"M17.41 7.96l-1.37-1.37c-.4-.4-.92-.59-1.43-.59-.52 0-1.04.2-1.43.59L10.3 9.45l-7.72 7.72c-.78.78-.78 2.05 0 2.83L4 21.41c.39.39.9.59 1.41.59.51 0 1.02-.2 1.41-.59l7.78-7.78 2.81-2.81c.8-.78.8-2.07 0-2.86zM5.41 20L4 18.59l7.72-7.72 1.47 1.35L5.41 20z\"/>\n",
              "  </svg>\n",
              "      </button>\n",
              "      \n",
              "  <style>\n",
              "    .colab-df-container {\n",
              "      display:flex;\n",
              "      flex-wrap:wrap;\n",
              "      gap: 12px;\n",
              "    }\n",
              "\n",
              "    .colab-df-convert {\n",
              "      background-color: #E8F0FE;\n",
              "      border: none;\n",
              "      border-radius: 50%;\n",
              "      cursor: pointer;\n",
              "      display: none;\n",
              "      fill: #1967D2;\n",
              "      height: 32px;\n",
              "      padding: 0 0 0 0;\n",
              "      width: 32px;\n",
              "    }\n",
              "\n",
              "    .colab-df-convert:hover {\n",
              "      background-color: #E2EBFA;\n",
              "      box-shadow: 0px 1px 2px rgba(60, 64, 67, 0.3), 0px 1px 3px 1px rgba(60, 64, 67, 0.15);\n",
              "      fill: #174EA6;\n",
              "    }\n",
              "\n",
              "    [theme=dark] .colab-df-convert {\n",
              "      background-color: #3B4455;\n",
              "      fill: #D2E3FC;\n",
              "    }\n",
              "\n",
              "    [theme=dark] .colab-df-convert:hover {\n",
              "      background-color: #434B5C;\n",
              "      box-shadow: 0px 1px 3px 1px rgba(0, 0, 0, 0.15);\n",
              "      filter: drop-shadow(0px 1px 2px rgba(0, 0, 0, 0.3));\n",
              "      fill: #FFFFFF;\n",
              "    }\n",
              "  </style>\n",
              "\n",
              "      <script>\n",
              "        const buttonEl =\n",
              "          document.querySelector('#df-6e9c8724-3815-4b3b-98a7-8aceca19ce67 button.colab-df-convert');\n",
              "        buttonEl.style.display =\n",
              "          google.colab.kernel.accessAllowed ? 'block' : 'none';\n",
              "\n",
              "        async function convertToInteractive(key) {\n",
              "          const element = document.querySelector('#df-6e9c8724-3815-4b3b-98a7-8aceca19ce67');\n",
              "          const dataTable =\n",
              "            await google.colab.kernel.invokeFunction('convertToInteractive',\n",
              "                                                     [key], {});\n",
              "          if (!dataTable) return;\n",
              "\n",
              "          const docLinkHtml = 'Like what you see? Visit the ' +\n",
              "            '<a target=\"_blank\" href=https://colab.research.google.com/notebooks/data_table.ipynb>data table notebook</a>'\n",
              "            + ' to learn more about interactive tables.';\n",
              "          element.innerHTML = '';\n",
              "          dataTable['output_type'] = 'display_data';\n",
              "          await google.colab.output.renderOutput(dataTable, element);\n",
              "          const docLink = document.createElement('div');\n",
              "          docLink.innerHTML = docLinkHtml;\n",
              "          element.appendChild(docLink);\n",
              "        }\n",
              "      </script>\n",
              "    </div>\n",
              "  </div>\n",
              "  "
            ]
          },
          "metadata": {},
          "execution_count": 4
        }
      ]
    },
    {
      "cell_type": "code",
      "source": [
        "from scipy import stats\n",
        "chi2_score,pval,dof,expected_table = stats.chi2_contingency(observed = df)"
      ],
      "metadata": {
        "id": "szuabLBKh0_s"
      },
      "execution_count": null,
      "outputs": []
    },
    {
      "cell_type": "code",
      "source": [
        "print('chi-squared value:',round(chi2_score,5))\n",
        "print('P-val            :',round(pval,5))\n",
        "print('Degree of freedom:',dof)\n",
        "print('Expected table   :\\n',expected_table)"
      ],
      "metadata": {
        "colab": {
          "base_uri": "https://localhost:8080/"
        },
        "id": "gda2UhS5iGie",
        "outputId": "4e1a3735-63f6-485b-b341-591e578d9578"
      },
      "execution_count": null,
      "outputs": [
        {
          "output_type": "stream",
          "name": "stdout",
          "text": [
            "chi-squared value: 0.0\n",
            "P-val            : 1.0\n",
            "Degree of freedom: 1\n",
            "Expected table   :\n",
            " [[59.84016393 97.15983607]\n",
            " [33.15983607 53.84016393]]\n"
          ]
        }
      ]
    },
    {
      "cell_type": "markdown",
      "source": [
        "![image.png](data:image/png;base64,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)"
      ],
      "metadata": {
        "id": "2bqb9MlZjNEX"
      }
    },
    {
      "cell_type": "code",
      "source": [
        "#level if significance  - 5% i.e. At 5% level of significance, do we reject or not reject?\n",
        "\n",
        "if pval<0.05:\n",
        "  print('We can reject the Null hypothesis')\n",
        "else:\n",
        "  print('We do not reject the Null hypothesis')"
      ],
      "metadata": {
        "colab": {
          "base_uri": "https://localhost:8080/"
        },
        "id": "OUsdilVTjN3L",
        "outputId": "6f81ab10-10fe-444b-88b9-d02b6555300b"
      },
      "execution_count": null,
      "outputs": [
        {
          "output_type": "stream",
          "name": "stdout",
          "text": [
            "We do not reject the Null hypothesis\n"
          ]
        }
      ]
    },
    {
      "cell_type": "markdown",
      "source": [
        "#B.T test\n",
        "\n",
        "1 sample\n",
        "\n",
        "2 sample\n",
        "\n",
        "Paired T test\n",
        "\n",
        "ANOVA"
      ],
      "metadata": {
        "id": "msQGDw3hm7A9"
      }
    },
    {
      "cell_type": "code",
      "source": [
        "ages = [45,50,25,65,32,47,36,19,52,14,56,85,20,35,23]\n",
        "ages"
      ],
      "metadata": {
        "colab": {
          "base_uri": "https://localhost:8080/"
        },
        "id": "7Mn_Fu3Di4ls",
        "outputId": "cdee001b-c240-41f3-cf19-7015e4dbd544"
      },
      "execution_count": null,
      "outputs": [
        {
          "output_type": "execute_result",
          "data": {
            "text/plain": [
              "[45, 50, 25, 65, 32, 47, 36, 19, 52, 14, 56, 85, 20, 35, 23]"
            ]
          },
          "metadata": {},
          "execution_count": 10
        }
      ]
    },
    {
      "cell_type": "code",
      "source": [
        "import numpy as np\n",
        "population_mean = np.mean(ages)\n",
        "population_mean"
      ],
      "metadata": {
        "colab": {
          "base_uri": "https://localhost:8080/"
        },
        "id": "DTFjJFJJnhyI",
        "outputId": "f9934685-bb04-4bb6-bc5a-0a241a9c708c"
      },
      "execution_count": null,
      "outputs": [
        {
          "output_type": "execute_result",
          "data": {
            "text/plain": [
              "40.266666666666666"
            ]
          },
          "metadata": {},
          "execution_count": 16
        }
      ]
    },
    {
      "cell_type": "code",
      "source": [
        "random_selection_from_population = np.random.choice(a=ages,size = 5)\n",
        "random_selection_from_population"
      ],
      "metadata": {
        "colab": {
          "base_uri": "https://localhost:8080/"
        },
        "id": "S_Pa85EPnk1P",
        "outputId": "7c2f5ab1-26e5-458e-8d62-d947800449fd"
      },
      "execution_count": null,
      "outputs": [
        {
          "output_type": "execute_result",
          "data": {
            "text/plain": [
              "array([56, 85, 25, 45, 52])"
            ]
          },
          "metadata": {},
          "execution_count": 17
        }
      ]
    },
    {
      "cell_type": "code",
      "source": [
        "np.mean(random_selection_from_population)"
      ],
      "metadata": {
        "colab": {
          "base_uri": "https://localhost:8080/"
        },
        "id": "VhopGuXtnwCb",
        "outputId": "75fe3977-9b76-4e8d-9778-19cdb4acaf1c"
      },
      "execution_count": null,
      "outputs": [
        {
          "output_type": "execute_result",
          "data": {
            "text/plain": [
              "52.6"
            ]
          },
          "metadata": {},
          "execution_count": 18
        }
      ]
    },
    {
      "cell_type": "code",
      "source": [
        "_, pval = stats.ttest_1samp(a = random_selection_from_population, popmean = population_mean)"
      ],
      "metadata": {
        "colab": {
          "base_uri": "https://localhost:8080/"
        },
        "id": "Qtw1rLuTnzFW",
        "outputId": "390dfabd-21a4-4428-ad59-754faf144065"
      },
      "execution_count": null,
      "outputs": [
        {
          "output_type": "execute_result",
          "data": {
            "text/plain": [
              "Ttest_1sampResult(statistic=1.2716804130117243, pvalue=0.2723957693475624)"
            ]
          },
          "metadata": {},
          "execution_count": 19
        }
      ]
    },
    {
      "cell_type": "code",
      "source": [
        "print(_)\n",
        "print(pval)"
      ],
      "metadata": {
        "colab": {
          "base_uri": "https://localhost:8080/"
        },
        "id": "WULwd5KFokX-",
        "outputId": "82bcf82c-9af2-411e-f441-21fd8d0dfb6b"
      },
      "execution_count": null,
      "outputs": [
        {
          "output_type": "stream",
          "name": "stdout",
          "text": [
            "Ttest_1sampResult(statistic=1.2716804130117243, pvalue=0.2723957693475624)\n",
            "1.0\n"
          ]
        }
      ]
    },
    {
      "cell_type": "code",
      "source": [
        "#level if significance  - 10% i.e. At 10% level of significance, do we reject or not reject?\n",
        "\n",
        "if pval<0.1:\n",
        "  print('We can reject the Null hypothesis')\n",
        "else:\n",
        "  print('We do not reject the Null hypothesis')"
      ],
      "metadata": {
        "id": "wkCmne5boO4b"
      },
      "execution_count": null,
      "outputs": []
    },
    {
      "cell_type": "markdown",
      "source": [
        "#C.2 Sample T test"
      ],
      "metadata": {
        "id": "aO8oLsQ0pWF1"
      }
    },
    {
      "cell_type": "code",
      "source": [
        "covishield_reaction_time = [48,50,24,24,50]\n",
        "covaxin_reaction_time = [0,0,2,0,2]"
      ],
      "metadata": {
        "id": "3itFY_wnpYhb"
      },
      "execution_count": null,
      "outputs": []
    },
    {
      "cell_type": "code",
      "source": [
        "np.mean(covishield_reaction_time)"
      ],
      "metadata": {
        "colab": {
          "base_uri": "https://localhost:8080/"
        },
        "id": "Z1EoHG1LpYkM",
        "outputId": "91e833b9-4b98-4903-eff1-3b4b06854292"
      },
      "execution_count": null,
      "outputs": [
        {
          "output_type": "execute_result",
          "data": {
            "text/plain": [
              "39.2"
            ]
          },
          "metadata": {},
          "execution_count": 23
        }
      ]
    },
    {
      "cell_type": "code",
      "source": [
        "np.mean(covaxin_reaction_time)"
      ],
      "metadata": {
        "colab": {
          "base_uri": "https://localhost:8080/"
        },
        "id": "0vUdd-dPpYm8",
        "outputId": "02cd8595-02f2-4686-997b-b60b16f8950b"
      },
      "execution_count": null,
      "outputs": [
        {
          "output_type": "execute_result",
          "data": {
            "text/plain": [
              "0.8"
            ]
          },
          "metadata": {},
          "execution_count": 24
        }
      ]
    },
    {
      "cell_type": "code",
      "source": [
        "_,pval = stats.ttest_ind(a= covishield_reaction_time, b= covaxin_reaction_time)"
      ],
      "metadata": {
        "id": "38jefDWcpYp_"
      },
      "execution_count": null,
      "outputs": []
    },
    {
      "cell_type": "code",
      "source": [
        "pval"
      ],
      "metadata": {
        "colab": {
          "base_uri": "https://localhost:8080/"
        },
        "id": "N79HrmEbp83l",
        "outputId": "e20a3f88-7807-4805-f76c-2161625844fd"
      },
      "execution_count": null,
      "outputs": [
        {
          "output_type": "execute_result",
          "data": {
            "text/plain": [
              "0.0002714860345140172"
            ]
          },
          "metadata": {},
          "execution_count": 26
        }
      ]
    },
    {
      "cell_type": "code",
      "source": [
        "#level if significance  - 1% i.e. At 1% level of significance, do we reject or not reject?\n",
        "\n",
        "if pval<0.01:\n",
        "  print('We can reject the Null hypothesis')\n",
        "else:\n",
        "  print('We do not reject the Null hypothesis')"
      ],
      "metadata": {
        "colab": {
          "base_uri": "https://localhost:8080/"
        },
        "id": "R1Uq90sGp-Kf",
        "outputId": "ae75abb4-1873-47c9-968b-b6a47a087120"
      },
      "execution_count": null,
      "outputs": [
        {
          "output_type": "stream",
          "name": "stdout",
          "text": [
            "We can reject the Null hypothesis\n"
          ]
        }
      ]
    },
    {
      "cell_type": "markdown",
      "source": [
        "#D.Paired T test"
      ],
      "metadata": {
        "id": "Gcb_nfP5qrjj"
      }
    },
    {
      "cell_type": "code",
      "source": [
        "pre_weight_loss_program = [100,105,120,90,85,103,110,115,99]\n",
        "post_weight_loss_program = [75,85,90,70,80,90,95,85,75]"
      ],
      "metadata": {
        "id": "MnbrgMCYqEih"
      },
      "execution_count": null,
      "outputs": []
    },
    {
      "cell_type": "code",
      "source": [
        "np.mean(pre_weight_loss_program),np.mean(post_weight_loss_program)"
      ],
      "metadata": {
        "colab": {
          "base_uri": "https://localhost:8080/"
        },
        "id": "UxiugtUKquE-",
        "outputId": "6ed4bd2f-31d3-4faf-b80d-e784a5271313"
      },
      "execution_count": null,
      "outputs": [
        {
          "output_type": "execute_result",
          "data": {
            "text/plain": [
              "(103.0, 82.77777777777777)"
            ]
          },
          "metadata": {},
          "execution_count": 30
        }
      ]
    },
    {
      "cell_type": "code",
      "source": [
        "_,pval = stats.ttest_rel(a=pre_weight_loss_program, b=post_weight_loss_program  )"
      ],
      "metadata": {
        "id": "MUTxWW37quID"
      },
      "execution_count": null,
      "outputs": []
    },
    {
      "cell_type": "code",
      "source": [
        "pval"
      ],
      "metadata": {
        "colab": {
          "base_uri": "https://localhost:8080/"
        },
        "id": "purYrNQbquK9",
        "outputId": "1b5fe49e-867c-41c9-ab09-311324ff0455"
      },
      "execution_count": null,
      "outputs": [
        {
          "output_type": "execute_result",
          "data": {
            "text/plain": [
              "7.713832807688446e-05"
            ]
          },
          "metadata": {},
          "execution_count": 32
        }
      ]
    },
    {
      "cell_type": "code",
      "source": [
        "if pval<0.05:\n",
        "  print('We can reject the Null hypothesis')\n",
        "else:\n",
        "  print('We do not reject the Null hypothesis')"
      ],
      "metadata": {
        "colab": {
          "base_uri": "https://localhost:8080/"
        },
        "id": "rILP_YgTquN2",
        "outputId": "a4e4a13e-7824-4111-e177-f810e8240f81"
      },
      "execution_count": null,
      "outputs": [
        {
          "output_type": "stream",
          "name": "stdout",
          "text": [
            "We can reject the Null hypothesis\n"
          ]
        }
      ]
    },
    {
      "cell_type": "markdown",
      "source": [
        "#E.ANOVA"
      ],
      "metadata": {
        "id": "y3yKTai9ru2W"
      }
    },
    {
      "cell_type": "code",
      "source": [
        "#stats.f_oneway()"
      ],
      "metadata": {
        "id": "zFIlub-fquQx"
      },
      "execution_count": null,
      "outputs": []
    }
  ]
}