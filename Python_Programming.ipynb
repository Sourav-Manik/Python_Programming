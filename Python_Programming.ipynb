{
  "nbformat": 4,
  "nbformat_minor": 0,
  "metadata": {
    "colab": {
      "provenance": []
    },
    "kernelspec": {
      "name": "python3",
      "display_name": "Python 3"
    },
    "language_info": {
      "name": "python"
    }
  },
  "cells": [
    {
      "cell_type": "markdown",
      "source": [
        "## Chapter 1 - Print, Variables"
      ],
      "metadata": {
        "id": "tJf8eSSRGmbo"
      }
    },
    {
      "cell_type": "markdown",
      "source": [
        "1.a. Print"
      ],
      "metadata": {
        "id": "0ecGDnh_GrrD"
      }
    },
    {
      "cell_type": "code",
      "execution_count": 1,
      "metadata": {
        "colab": {
          "base_uri": "https://localhost:8080/"
        },
        "id": "hPaGLBwEGM3N",
        "outputId": "349eb1db-4e17-49fc-d118-82814f6159ba"
      },
      "outputs": [
        {
          "output_type": "stream",
          "name": "stdout",
          "text": [
            "hello\n"
          ]
        }
      ],
      "source": [
        "print('hello')    "
      ]
    },
    {
      "cell_type": "markdown",
      "source": [
        "1.b Create a Variable"
      ],
      "metadata": {
        "id": "apOMeIpFG4Na"
      }
    },
    {
      "cell_type": "code",
      "source": [
        "names = ['Vegeta','Goku','Doremon']\n",
        "names"
      ],
      "metadata": {
        "colab": {
          "base_uri": "https://localhost:8080/"
        },
        "id": "jll5sJN-GyW9",
        "outputId": "ee087b01-f021-4d6d-ab24-ffea190738c8"
      },
      "execution_count": 2,
      "outputs": [
        {
          "output_type": "execute_result",
          "data": {
            "text/plain": [
              "['Vegeta', 'Goku', 'Doremon']"
            ]
          },
          "metadata": {},
          "execution_count": 2
        }
      ]
    },
    {
      "cell_type": "markdown",
      "source": [
        "Note- Index number in python starts with 0."
      ],
      "metadata": {
        "id": "LfYJ1PdKHGwa"
      }
    },
    {
      "cell_type": "markdown",
      "source": [
        "## Chapter 2 - Strings and Strings Methods"
      ],
      "metadata": {
        "id": "zqqYNZQKHQua"
      }
    },
    {
      "cell_type": "markdown",
      "source": [
        "### 2.a. What is a string?"
      ],
      "metadata": {
        "id": "jdZLauUNKa1Q"
      }
    },
    {
      "cell_type": "markdown",
      "source": [
        "3 Datatypes in Python\n",
        "\n",
        "1. Int - Integer - numbers without decimal\n",
        "2. Float - with decimal numbers\n",
        "3. String - anything which is enclosed within quotes"
      ],
      "metadata": {
        "id": "KSy4UyjNJm_D"
      }
    },
    {
      "cell_type": "code",
      "source": [
        "India_score = 444\n",
        "type(India_score)"
      ],
      "metadata": {
        "colab": {
          "base_uri": "https://localhost:8080/"
        },
        "id": "QpwpN7fEHEQZ",
        "outputId": "42b4bc39-b62b-4b28-da04-d18a31c75ecb"
      },
      "execution_count": 3,
      "outputs": [
        {
          "output_type": "execute_result",
          "data": {
            "text/plain": [
              "int"
            ]
          },
          "metadata": {},
          "execution_count": 3
        }
      ]
    },
    {
      "cell_type": "code",
      "source": [
        "avg_marks = '99.97'\n",
        "type(avg_marks)"
      ],
      "metadata": {
        "colab": {
          "base_uri": "https://localhost:8080/"
        },
        "id": "i3Yl0XD1HY48",
        "outputId": "06e3bcb0-f3cd-401c-f651-b30ca697b968"
      },
      "execution_count": 4,
      "outputs": [
        {
          "output_type": "execute_result",
          "data": {
            "text/plain": [
              "str"
            ]
          },
          "metadata": {},
          "execution_count": 4
        }
      ]
    },
    {
      "cell_type": "code",
      "source": [
        "avg_marks_2 = 78\n",
        "type(avg_marks_2)"
      ],
      "metadata": {
        "colab": {
          "base_uri": "https://localhost:8080/"
        },
        "id": "bZjKg7Y4HY76",
        "outputId": "deaf85c3-6200-4a86-8e1b-8c2e270dc0cd"
      },
      "execution_count": 5,
      "outputs": [
        {
          "output_type": "execute_result",
          "data": {
            "text/plain": [
              "int"
            ]
          },
          "metadata": {},
          "execution_count": 5
        }
      ]
    },
    {
      "cell_type": "markdown",
      "source": [
        "### 2.b. Concatenation - Indexing - Slicing"
      ],
      "metadata": {
        "id": "hWGKuIkpKpaw"
      }
    },
    {
      "cell_type": "markdown",
      "source": [
        "concatenation"
      ],
      "metadata": {
        "id": "FFSqpYfBPbMB"
      }
    },
    {
      "cell_type": "code",
      "source": [
        "fname = 'Sourav'\n",
        "mid_name = 'Manav'\n",
        "lname = 'Manik'"
      ],
      "metadata": {
        "id": "wb7PSAUhHY_J"
      },
      "execution_count": 6,
      "outputs": []
    },
    {
      "cell_type": "code",
      "source": [
        "print(fname)"
      ],
      "metadata": {
        "colab": {
          "base_uri": "https://localhost:8080/"
        },
        "id": "TFYz1xSFHZBK",
        "outputId": "d7a49f6c-46be-4b62-dbe6-655910f37dd3"
      },
      "execution_count": 7,
      "outputs": [
        {
          "output_type": "stream",
          "name": "stdout",
          "text": [
            "Sourav\n"
          ]
        }
      ]
    },
    {
      "cell_type": "code",
      "source": [
        "fname, mid_name, lname"
      ],
      "metadata": {
        "colab": {
          "base_uri": "https://localhost:8080/"
        },
        "id": "llVlQmzkHZD1",
        "outputId": "daa7df2a-69df-44fd-9d5f-23822a296d75"
      },
      "execution_count": 8,
      "outputs": [
        {
          "output_type": "execute_result",
          "data": {
            "text/plain": [
              "('Sourav', 'Manav', 'Manik')"
            ]
          },
          "metadata": {},
          "execution_count": 8
        }
      ]
    },
    {
      "cell_type": "code",
      "source": [
        "fname + lname"
      ],
      "metadata": {
        "colab": {
          "base_uri": "https://localhost:8080/",
          "height": 36
        },
        "id": "fpbAaWsQHZGV",
        "outputId": "65f1bb53-2073-41ee-9094-51955022fe5a"
      },
      "execution_count": 9,
      "outputs": [
        {
          "output_type": "execute_result",
          "data": {
            "text/plain": [
              "'SouravManik'"
            ],
            "application/vnd.google.colaboratory.intrinsic+json": {
              "type": "string"
            }
          },
          "metadata": {},
          "execution_count": 9
        }
      ]
    },
    {
      "cell_type": "code",
      "source": [
        "fname + ' ' +lname # concatenation"
      ],
      "metadata": {
        "colab": {
          "base_uri": "https://localhost:8080/",
          "height": 36
        },
        "id": "UQub1lJoHZJL",
        "outputId": "1b0b4ae0-91d9-4968-e303-c973f619d615"
      },
      "execution_count": 10,
      "outputs": [
        {
          "output_type": "execute_result",
          "data": {
            "text/plain": [
              "'Sourav Manik'"
            ],
            "application/vnd.google.colaboratory.intrinsic+json": {
              "type": "string"
            }
          },
          "metadata": {},
          "execution_count": 10
        }
      ]
    },
    {
      "cell_type": "code",
      "source": [
        "fname = 'Sourav'\n",
        "mid_name = 'Manav'\n",
        "lname = 'Manik'\n",
        "age = 25"
      ],
      "metadata": {
        "id": "6zylFYhJLeOl"
      },
      "execution_count": 11,
      "outputs": []
    },
    {
      "cell_type": "code",
      "source": [
        "# print('The name is '+fname + ' ' +lname+' and my age is '+ age)"
      ],
      "metadata": {
        "colab": {
          "base_uri": "https://localhost:8080/",
          "height": 165
        },
        "id": "r_tjH8CpLxYb",
        "outputId": "ab4d3362-7391-4d05-89d0-8a90adf91980"
      },
      "execution_count": 12,
      "outputs": [
        {
          "output_type": "error",
          "ename": "TypeError",
          "evalue": "ignored",
          "traceback": [
            "\u001b[0;31m---------------------------------------------------------------------------\u001b[0m",
            "\u001b[0;31mTypeError\u001b[0m                                 Traceback (most recent call last)",
            "\u001b[0;32m<ipython-input-12-d72f60b4139e>\u001b[0m in \u001b[0;36m<module>\u001b[0;34m\u001b[0m\n\u001b[0;32m----> 1\u001b[0;31m \u001b[0mprint\u001b[0m\u001b[0;34m(\u001b[0m\u001b[0;34m'The name is '\u001b[0m\u001b[0;34m+\u001b[0m\u001b[0mfname\u001b[0m \u001b[0;34m+\u001b[0m \u001b[0;34m' '\u001b[0m \u001b[0;34m+\u001b[0m\u001b[0mlname\u001b[0m\u001b[0;34m+\u001b[0m\u001b[0;34m' and my age is '\u001b[0m\u001b[0;34m+\u001b[0m \u001b[0mage\u001b[0m\u001b[0;34m)\u001b[0m\u001b[0;34m\u001b[0m\u001b[0;34m\u001b[0m\u001b[0m\n\u001b[0m",
            "\u001b[0;31mTypeError\u001b[0m: can only concatenate str (not \"int\") to str"
          ]
        }
      ]
    },
    {
      "cell_type": "code",
      "source": [
        "#by using '+' operator in python we cannot concatenate string with integer value. Thus we will use 'str()' which is called as type casting. See below."
      ],
      "metadata": {
        "id": "ttFEZPX3MbyB"
      },
      "execution_count": null,
      "outputs": []
    },
    {
      "cell_type": "code",
      "source": [
        "print('The name is '+fname + ' ' +lname+' and my age is '+ str(age)) # typecasting"
      ],
      "metadata": {
        "colab": {
          "base_uri": "https://localhost:8080/"
        },
        "id": "JQpJdJJpLxbm",
        "outputId": "792b5602-12d0-467f-e89b-119431387cf4"
      },
      "execution_count": 14,
      "outputs": [
        {
          "output_type": "stream",
          "name": "stdout",
          "text": [
            "The name is Sourav Manik and my age is 25\n"
          ]
        }
      ]
    },
    {
      "cell_type": "code",
      "source": [
        "type(age)"
      ],
      "metadata": {
        "colab": {
          "base_uri": "https://localhost:8080/"
        },
        "id": "tJYDyoMsLxgx",
        "outputId": "f5e263e6-ae8e-44a7-b893-848077640dce"
      },
      "execution_count": 15,
      "outputs": [
        {
          "output_type": "execute_result",
          "data": {
            "text/plain": [
              "int"
            ]
          },
          "metadata": {},
          "execution_count": 15
        }
      ]
    },
    {
      "cell_type": "code",
      "source": [
        "print('The name is',fname,lname,'and my age is', age) #comma operator for concatenate"
      ],
      "metadata": {
        "colab": {
          "base_uri": "https://localhost:8080/"
        },
        "id": "4sR6ZxP2Lxj6",
        "outputId": "65bdc014-615d-4664-ba37-452900d2721f"
      },
      "execution_count": 16,
      "outputs": [
        {
          "output_type": "stream",
          "name": "stdout",
          "text": [
            "The name is Sourav Manik and my age is 25\n"
          ]
        }
      ]
    },
    {
      "cell_type": "markdown",
      "source": [
        "Indexing and Slicing"
      ],
      "metadata": {
        "id": "iQxKBj5aPX_G"
      }
    },
    {
      "cell_type": "code",
      "source": [
        "comment = 'Virat Kholi is on the greatest players in the world'\n",
        "comment"
      ],
      "metadata": {
        "colab": {
          "base_uri": "https://localhost:8080/",
          "height": 36
        },
        "id": "nl5on7DKLxmr",
        "outputId": "79eab163-0e12-430e-e20c-f44823145fdf"
      },
      "execution_count": 17,
      "outputs": [
        {
          "output_type": "execute_result",
          "data": {
            "text/plain": [
              "'Virat Kholi is on the greatest players in the world'"
            ],
            "application/vnd.google.colaboratory.intrinsic+json": {
              "type": "string"
            }
          },
          "metadata": {},
          "execution_count": 17
        }
      ]
    },
    {
      "cell_type": "code",
      "source": [
        "# for filtering we have to use [] \n",
        "# [:] means select everything\n",
        "comment[6:11]  "
      ],
      "metadata": {
        "colab": {
          "base_uri": "https://localhost:8080/",
          "height": 36
        },
        "id": "A-DmFAsdOn8r",
        "outputId": "55cccf39-fa18-4d34-f2c7-c91294c88dd8"
      },
      "execution_count": 18,
      "outputs": [
        {
          "output_type": "execute_result",
          "data": {
            "text/plain": [
              "'Kholi'"
            ],
            "application/vnd.google.colaboratory.intrinsic+json": {
              "type": "string"
            }
          },
          "metadata": {},
          "execution_count": 18
        }
      ]
    },
    {
      "cell_type": "markdown",
      "source": [
        "### 2.c. Manipulate string with string methods"
      ],
      "metadata": {
        "id": "6pqRqemmPzhd"
      }
    },
    {
      "cell_type": "markdown",
      "source": [
        "Methods/Functions- It is an operation getting applied on the variable and it always end with ()"
      ],
      "metadata": {
        "id": "l4Xor2iGQBAd"
      }
    },
    {
      "cell_type": "code",
      "source": [
        "learner_1 = \"sourav\"\n",
        "learner_2 = \"          sourav\"\n",
        "learner_3 = \"sourav         \"\n",
        "learner_4 = \"          sourav             \""
      ],
      "metadata": {
        "id": "1ZqH1ptCPAII"
      },
      "execution_count": 22,
      "outputs": []
    },
    {
      "cell_type": "code",
      "source": [
        "len(learner_1),len(learner_2),len(learner_3),len(learner_4)"
      ],
      "metadata": {
        "colab": {
          "base_uri": "https://localhost:8080/"
        },
        "id": "fgngZPoVv-l2",
        "outputId": "eb335ac0-6da7-4ccd-b75f-cab6182039d1"
      },
      "execution_count": 23,
      "outputs": [
        {
          "output_type": "execute_result",
          "data": {
            "text/plain": [
              "(6, 16, 15, 29)"
            ]
          },
          "metadata": {},
          "execution_count": 23
        }
      ]
    },
    {
      "cell_type": "code",
      "source": [
        "learner_1.capitalize()"
      ],
      "metadata": {
        "colab": {
          "base_uri": "https://localhost:8080/",
          "height": 36
        },
        "id": "5vprlpyVv-po",
        "outputId": "1815a3db-8ad7-45c5-a604-b97de48040ef"
      },
      "execution_count": 24,
      "outputs": [
        {
          "output_type": "execute_result",
          "data": {
            "text/plain": [
              "'Sourav'"
            ],
            "application/vnd.google.colaboratory.intrinsic+json": {
              "type": "string"
            }
          },
          "metadata": {},
          "execution_count": 24
        }
      ]
    },
    {
      "cell_type": "markdown",
      "source": [
        "**note - to get the details inside the () of a function we have to click shift+ triple tab or double tab**"
      ],
      "metadata": {
        "id": "TQqxr4Lkwwf5"
      }
    },
    {
      "cell_type": "code",
      "source": [
        "learner_2.lstrip()"
      ],
      "metadata": {
        "colab": {
          "base_uri": "https://localhost:8080/",
          "height": 36
        },
        "id": "sJW9z7sIv-sr",
        "outputId": "587aec31-c51e-4f63-ac10-a87ad2ff7f80"
      },
      "execution_count": 25,
      "outputs": [
        {
          "output_type": "execute_result",
          "data": {
            "text/plain": [
              "'sourav'"
            ],
            "application/vnd.google.colaboratory.intrinsic+json": {
              "type": "string"
            }
          },
          "metadata": {},
          "execution_count": 25
        }
      ]
    },
    {
      "cell_type": "code",
      "source": [
        "learner_3.rstrip()"
      ],
      "metadata": {
        "colab": {
          "base_uri": "https://localhost:8080/",
          "height": 36
        },
        "id": "UtmSG61nv-vs",
        "outputId": "ce55eb9f-638b-496a-eb08-755b7dbe555e"
      },
      "execution_count": 27,
      "outputs": [
        {
          "output_type": "execute_result",
          "data": {
            "text/plain": [
              "'sourav'"
            ],
            "application/vnd.google.colaboratory.intrinsic+json": {
              "type": "string"
            }
          },
          "metadata": {},
          "execution_count": 27
        }
      ]
    },
    {
      "cell_type": "code",
      "source": [
        "learner_4.strip()"
      ],
      "metadata": {
        "colab": {
          "base_uri": "https://localhost:8080/",
          "height": 36
        },
        "id": "AyAfpapLv-y0",
        "outputId": "df5030be-2846-4c95-b48b-4f226e7bcc3e"
      },
      "execution_count": 28,
      "outputs": [
        {
          "output_type": "execute_result",
          "data": {
            "text/plain": [
              "'sourav'"
            ],
            "application/vnd.google.colaboratory.intrinsic+json": {
              "type": "string"
            }
          },
          "metadata": {},
          "execution_count": 28
        }
      ]
    },
    {
      "cell_type": "code",
      "source": [
        "learner_1.find()"
      ],
      "metadata": {
        "id": "fQPhyK_XxWLs"
      },
      "execution_count": null,
      "outputs": []
    },
    {
      "cell_type": "markdown",
      "source": [
        "### 2.d.Interact with user-input"
      ],
      "metadata": {
        "id": "3VVrkxe90GGv"
      }
    },
    {
      "cell_type": "code",
      "source": [
        "user_name = input('Username:')\n",
        "print('First letter starts with',username[0])"
      ],
      "metadata": {
        "colab": {
          "base_uri": "https://localhost:8080/"
        },
        "id": "9tceAzBI0Mfq",
        "outputId": "3fbad377-0cfd-45c2-d930-4cbc58771489"
      },
      "execution_count": 29,
      "outputs": [
        {
          "name": "stdout",
          "output_type": "stream",
          "text": [
            "Username:Sourav\n"
          ]
        }
      ]
    },
    {
      "cell_type": "markdown",
      "source": [
        "###2.e. Get 2 inputs from the user and display it."
      ],
      "metadata": {
        "id": "KPjRbP-P1JOH"
      }
    },
    {
      "cell_type": "code",
      "source": [
        "user_name = input('Username:')\n",
        "age= input('age:')\n",
        "print('Name is {} and my age is {}.'.format(user_name,age))"
      ],
      "metadata": {
        "colab": {
          "base_uri": "https://localhost:8080/"
        },
        "id": "xN6WigR-1Agf",
        "outputId": "b42bc70b-d798-41de-da9f-539f17d4c71a"
      },
      "execution_count": 33,
      "outputs": [
        {
          "output_type": "stream",
          "name": "stdout",
          "text": [
            "Username:goku\n",
            "age:25\n",
            "Name is goku and age is 25.\n"
          ]
        }
      ]
    },
    {
      "cell_type": "markdown",
      "source": [
        "# Chapter 3 - Numbers in Python"
      ],
      "metadata": {
        "id": "JqMMnB0V2eqN"
      }
    },
    {
      "cell_type": "code",
      "source": [
        "user_marks = int(input('Enter your marks : '))\n",
        "print('The marks is ',abs(user_marks))"
      ],
      "metadata": {
        "colab": {
          "base_uri": "https://localhost:8080/"
        },
        "id": "k4DAKQYL0Mj0",
        "outputId": "0ee3cbbd-f885-41e2-857a-2b31091fb8cb"
      },
      "execution_count": 35,
      "outputs": [
        {
          "output_type": "stream",
          "name": "stdout",
          "text": [
            "Enter your marks : 100\n",
            "The marks is  100\n"
          ]
        }
      ]
    },
    {
      "cell_type": "markdown",
      "source": [
        "# Chapter 4 - Function and Loops"
      ],
      "metadata": {
        "id": "jqChu0oI3kKl"
      }
    },
    {
      "cell_type": "markdown",
      "source": [
        "![image.png](data:image/png;base64,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)"
      ],
      "metadata": {
        "id": "qF9P6YOv33f8"
      }
    },
    {
      "cell_type": "markdown",
      "source": [
        "###4.a. Write your own functions"
      ],
      "metadata": {
        "id": "A1xaXr9T4A19"
      }
    },
    {
      "cell_type": "code",
      "source": [
        "#Function definition\n",
        "def get_data():\n",
        "  print('Hi')\n",
        "  print('Welcome')"
      ],
      "metadata": {
        "id": "NP8RjdqX0MxJ"
      },
      "execution_count": 37,
      "outputs": []
    },
    {
      "cell_type": "code",
      "source": [
        "#calling a function\n",
        "get_data()"
      ],
      "metadata": {
        "colab": {
          "base_uri": "https://localhost:8080/"
        },
        "id": "b35u-rML0M0n",
        "outputId": "767bd1f9-0483-4745-fd05-88b6a19faa0d"
      },
      "execution_count": 38,
      "outputs": [
        {
          "output_type": "stream",
          "name": "stdout",
          "text": [
            "Hi\n",
            "Welcome\n"
          ]
        }
      ]
    },
    {
      "cell_type": "markdown",
      "source": [
        "Positional Arguments"
      ],
      "metadata": {
        "id": "OZAlwjC65z3C"
      }
    },
    {
      "cell_type": "code",
      "source": [
        "def get_2_numbers(num1,num2):  #num1 and num2 we call it as Argument\n",
        "  print(num1)\n",
        "  print(num2)\n",
        "  return num1+num2 #termination point to a function"
      ],
      "metadata": {
        "id": "dtGATb-60M3q"
      },
      "execution_count": 44,
      "outputs": []
    },
    {
      "cell_type": "code",
      "source": [
        "get_2_numbers(4,7) #Value inside funtion is called as Parameters."
      ],
      "metadata": {
        "colab": {
          "base_uri": "https://localhost:8080/"
        },
        "id": "EQh2L2QY5T9W",
        "outputId": "9cbfcfb1-929c-49a4-d804-b10f3505e187"
      },
      "execution_count": 45,
      "outputs": [
        {
          "output_type": "stream",
          "name": "stdout",
          "text": [
            "4\n",
            "7\n"
          ]
        },
        {
          "output_type": "execute_result",
          "data": {
            "text/plain": [
              "11"
            ]
          },
          "metadata": {},
          "execution_count": 45
        }
      ]
    },
    {
      "cell_type": "markdown",
      "source": [
        "Default Parameter"
      ],
      "metadata": {
        "id": "xmzNYA8s7bMj"
      }
    },
    {
      "cell_type": "code",
      "source": [
        "def get_emp_details(emp_no,ename,age,company = 'Google'):\n",
        "  print(\"**********************************************\")\n",
        "  print('Employee ID   :',emp_no)\n",
        "  print('Employee name :',ename)\n",
        "  print('Age           :',age)\n",
        "  print('Workplace     :',company)\n",
        "  print(\"**********************************************\")"
      ],
      "metadata": {
        "id": "IxMQCYIE5yLp"
      },
      "execution_count": 49,
      "outputs": []
    },
    {
      "cell_type": "code",
      "source": [
        "get_emp_details(1,'Vegeta',25)"
      ],
      "metadata": {
        "colab": {
          "base_uri": "https://localhost:8080/"
        },
        "id": "VLYEgI9t8DjO",
        "outputId": "03336d67-8570-4401-fdf6-526c4beba134"
      },
      "execution_count": 50,
      "outputs": [
        {
          "output_type": "stream",
          "name": "stdout",
          "text": [
            "**********************************************\n",
            "Employee ID   : 1\n",
            "Employee name : Vegeta\n",
            "Age           : 25\n",
            "Workplace     : Google\n",
            "**********************************************\n"
          ]
        }
      ]
    },
    {
      "cell_type": "code",
      "source": [
        "get_emp_details(1,'Kholi',34,'BCCI') #overwritting default parameter"
      ],
      "metadata": {
        "colab": {
          "base_uri": "https://localhost:8080/"
        },
        "id": "P9mLx_eg8TBz",
        "outputId": "2fce3cfe-48fd-4171-e241-a2e669e16aca"
      },
      "execution_count": 53,
      "outputs": [
        {
          "output_type": "stream",
          "name": "stdout",
          "text": [
            "**********************************************\n",
            "Employee ID   : 1\n",
            "Employee name : Kholi\n",
            "Age           : 34\n",
            "Workplace     : BCCI\n",
            "**********************************************\n"
          ]
        }
      ]
    },
    {
      "cell_type": "markdown",
      "source": [
        "Variable-Length Argument"
      ],
      "metadata": {
        "id": "63bdfeyo84CV"
      }
    },
    {
      "cell_type": "code",
      "source": [
        "def get_emp_details_2(emp_no,ename,age,*company): #only last argument can be variable length arguments\n",
        "  print(\"**********************************************\")\n",
        "  print('Employee ID   :',emp_no)\n",
        "  print('Employee name :',ename)\n",
        "  print('Age           :',age)\n",
        "  print('Workplace     :',company)\n",
        "  print(\"**********************************************\")"
      ],
      "metadata": {
        "id": "blkImjNW8YXa"
      },
      "execution_count": 55,
      "outputs": []
    },
    {
      "cell_type": "code",
      "source": [
        "get_emp_details_2(1,'Vegeta',25,'Google','Microsoft','Meta')"
      ],
      "metadata": {
        "colab": {
          "base_uri": "https://localhost:8080/"
        },
        "id": "uuhaloWU9EmQ",
        "outputId": "e3857184-7cb1-4306-81f5-57b2ec5e118d"
      },
      "execution_count": 56,
      "outputs": [
        {
          "output_type": "stream",
          "name": "stdout",
          "text": [
            "**********************************************\n",
            "Employee ID   : 1\n",
            "Employee name : Vegeta\n",
            "Age           : 25\n",
            "Workplace     : ('Google', 'Microsoft', 'Meta')\n",
            "**********************************************\n"
          ]
        }
      ]
    },
    {
      "cell_type": "markdown",
      "source": [
        "Keyword Argument"
      ],
      "metadata": {
        "id": "47orRwio9lWk"
      }
    },
    {
      "cell_type": "code",
      "source": [
        "def get_emp_details_3(emp_no,ename,age,**company): \n",
        "  print(\"**********************************************\")\n",
        "  print('Employee ID   :',emp_no)\n",
        "  print('Employee name :',ename)\n",
        "  print('Age           :',age)\n",
        "  print('Workplace     :',company)\n",
        "  print(\"**********************************************\")"
      ],
      "metadata": {
        "id": "xB4ZR3Xq9q4A"
      },
      "execution_count": 57,
      "outputs": []
    },
    {
      "cell_type": "code",
      "source": [
        "get_emp_details_3(1,'Vegeta',25,company1 = 'Google',company2 ='Microsoft',company3 ='Meta')"
      ],
      "metadata": {
        "colab": {
          "base_uri": "https://localhost:8080/"
        },
        "outputId": "c2c7fa4d-c7d0-4b3a-bd7a-c6d0ab82dc86",
        "id": "hj6hgwRR9q4B"
      },
      "execution_count": 58,
      "outputs": [
        {
          "output_type": "stream",
          "name": "stdout",
          "text": [
            "**********************************************\n",
            "Employee ID   : 1\n",
            "Employee name : Vegeta\n",
            "Age           : 25\n",
            "Workplace     : {'company1': 'Google', 'company2': 'Microsoft', 'company3': 'Meta'}\n",
            "**********************************************\n"
          ]
        }
      ]
    },
    {
      "cell_type": "markdown",
      "source": [
        "Having variable-length and keyword argument in one function"
      ],
      "metadata": {
        "id": "kFuWu198-Pgt"
      }
    },
    {
      "cell_type": "code",
      "source": [
        "def get_emp_details_4(emp_no,age,*ename,**company): \n",
        "  print(\"**********************************************\")\n",
        "  print('Employee ID   :',emp_no)\n",
        "  print('Employee name :',ename)\n",
        "  print('Age           :',age)\n",
        "  print('Workplace     :',company)\n",
        "  print(\"**********************************************\")"
      ],
      "metadata": {
        "id": "On56xdwd-aUu"
      },
      "execution_count": 59,
      "outputs": []
    },
    {
      "cell_type": "code",
      "source": [
        "get_emp_details_4(1,24,'Vegeta','Goku','Doremon',company1 = 'Google',company2 ='Microsoft',company3 ='Meta')"
      ],
      "metadata": {
        "colab": {
          "base_uri": "https://localhost:8080/"
        },
        "outputId": "c27b9718-6402-4373-8866-9a68508a06ac",
        "id": "RkGEKEIF-aUu"
      },
      "execution_count": 60,
      "outputs": [
        {
          "output_type": "stream",
          "name": "stdout",
          "text": [
            "**********************************************\n",
            "Employee ID   : 1\n",
            "Employee name : ('Vegeta', 'Goku', 'Doremon')\n",
            "Age           : 24\n",
            "Workplace     : {'company1': 'Google', 'company2': 'Microsoft', 'company3': 'Meta'}\n",
            "**********************************************\n"
          ]
        }
      ]
    },
    {
      "cell_type": "markdown",
      "source": [
        "###4.b. Run in circles"
      ],
      "metadata": {
        "id": "HDz0KLIY_s06"
      }
    },
    {
      "cell_type": "code",
      "source": [
        "for i in range(1,21,2):\n",
        "  print(i)\n",
        "  "
      ],
      "metadata": {
        "colab": {
          "base_uri": "https://localhost:8080/"
        },
        "id": "__17frec9QHY",
        "outputId": "6dbd6f3e-a0a9-4314-aa9b-87fc158aed7a"
      },
      "execution_count": 61,
      "outputs": [
        {
          "output_type": "stream",
          "name": "stdout",
          "text": [
            "1\n",
            "3\n",
            "5\n",
            "7\n",
            "9\n",
            "11\n",
            "13\n",
            "15\n",
            "17\n",
            "19\n"
          ]
        }
      ]
    },
    {
      "cell_type": "markdown",
      "source": [
        "# Chapter 5 - Conditionnal Logic"
      ],
      "metadata": {
        "id": "6UT_jPQ2RXf-"
      }
    },
    {
      "cell_type": "markdown",
      "source": [
        "![image.png](data:image/png;base64,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)"
      ],
      "metadata": {
        "id": "PeP0rn5RR-uo"
      }
    },
    {
      "cell_type": "code",
      "source": [
        "6==6"
      ],
      "metadata": {
        "colab": {
          "base_uri": "https://localhost:8080/"
        },
        "id": "E_pDhuUO9oWR",
        "outputId": "08c41688-a664-4369-ed85-9074433f4404"
      },
      "execution_count": 62,
      "outputs": [
        {
          "output_type": "execute_result",
          "data": {
            "text/plain": [
              "True"
            ]
          },
          "metadata": {},
          "execution_count": 62
        }
      ]
    },
    {
      "cell_type": "code",
      "source": [
        "5 == 'a'"
      ],
      "metadata": {
        "colab": {
          "base_uri": "https://localhost:8080/"
        },
        "id": "SsJI3Lea9oZo",
        "outputId": "6d1f4f87-ae52-4d5a-8099-220a1794b7b9"
      },
      "execution_count": 63,
      "outputs": [
        {
          "output_type": "execute_result",
          "data": {
            "text/plain": [
              "False"
            ]
          },
          "metadata": {},
          "execution_count": 63
        }
      ]
    },
    {
      "cell_type": "code",
      "source": [
        "5 != 'a'"
      ],
      "metadata": {
        "colab": {
          "base_uri": "https://localhost:8080/"
        },
        "id": "lf2JQUUt9ocV",
        "outputId": "dbcfc5db-d61c-4ccb-a25c-1d821b26428c"
      },
      "execution_count": 64,
      "outputs": [
        {
          "output_type": "execute_result",
          "data": {
            "text/plain": [
              "True"
            ]
          },
          "metadata": {},
          "execution_count": 64
        }
      ]
    },
    {
      "cell_type": "code",
      "source": [
        "3/2 #quotient"
      ],
      "metadata": {
        "colab": {
          "base_uri": "https://localhost:8080/"
        },
        "id": "iqvsL7lQ9oh1",
        "outputId": "11887ab8-0d05-4ec9-9567-3b2e59df10c7"
      },
      "execution_count": 65,
      "outputs": [
        {
          "output_type": "execute_result",
          "data": {
            "text/plain": [
              "1.5"
            ]
          },
          "metadata": {},
          "execution_count": 65
        }
      ]
    },
    {
      "cell_type": "code",
      "source": [
        "3%2 # remainder"
      ],
      "metadata": {
        "colab": {
          "base_uri": "https://localhost:8080/"
        },
        "id": "oukyvhR-RrpL",
        "outputId": "e81893d0-f63b-4170-ae8f-8597e6dfba2a"
      },
      "execution_count": 66,
      "outputs": [
        {
          "output_type": "execute_result",
          "data": {
            "text/plain": [
              "1"
            ]
          },
          "metadata": {},
          "execution_count": 66
        }
      ]
    },
    {
      "cell_type": "markdown",
      "source": [
        "###5.b. Add some logic"
      ],
      "metadata": {
        "id": "yDqXoe1OScR4"
      }
    },
    {
      "cell_type": "code",
      "source": [
        "maths = 100\n",
        "chemistry = 90\n",
        "physics = 95"
      ],
      "metadata": {
        "id": "V2Hs6LveR_x-"
      },
      "execution_count": 67,
      "outputs": []
    },
    {
      "cell_type": "code",
      "source": [
        "maths > chemistry and chemistry > physics"
      ],
      "metadata": {
        "colab": {
          "base_uri": "https://localhost:8080/"
        },
        "id": "yHtYc2WYRunB",
        "outputId": "3d1176b6-349d-45a1-c86d-ed3ebb7c9cf8"
      },
      "execution_count": 68,
      "outputs": [
        {
          "output_type": "execute_result",
          "data": {
            "text/plain": [
              "False"
            ]
          },
          "metadata": {},
          "execution_count": 68
        }
      ]
    },
    {
      "cell_type": "code",
      "source": [
        "maths > chemistry or chemistry > physics"
      ],
      "metadata": {
        "colab": {
          "base_uri": "https://localhost:8080/"
        },
        "id": "gTWITXkURyVO",
        "outputId": "ece08d18-7407-4ab9-a99a-4453e901d537"
      },
      "execution_count": 69,
      "outputs": [
        {
          "output_type": "execute_result",
          "data": {
            "text/plain": [
              "True"
            ]
          },
          "metadata": {},
          "execution_count": 69
        }
      ]
    },
    {
      "cell_type": "code",
      "source": [
        "(maths > chemistry) | (chemistry > physics) #or operater in sympbol.i.e. '|'"
      ],
      "metadata": {
        "colab": {
          "base_uri": "https://localhost:8080/"
        },
        "id": "p8kVKFgMRyY9",
        "outputId": "156144c0-b476-4a3b-b444-b38e8e514417"
      },
      "execution_count": 70,
      "outputs": [
        {
          "output_type": "execute_result",
          "data": {
            "text/plain": [
              "True"
            ]
          },
          "metadata": {},
          "execution_count": 70
        }
      ]
    },
    {
      "cell_type": "code",
      "source": [
        "feedback = 'The learners really working good. Very active'"
      ],
      "metadata": {
        "id": "wXNgTG3nRycH"
      },
      "execution_count": 71,
      "outputs": []
    },
    {
      "cell_type": "code",
      "source": [
        "'good' in feedback"
      ],
      "metadata": {
        "colab": {
          "base_uri": "https://localhost:8080/"
        },
        "id": "EASJwTB1RyfJ",
        "outputId": "43fa0081-e6dc-4ca6-8251-d40624a27802"
      },
      "execution_count": 72,
      "outputs": [
        {
          "output_type": "execute_result",
          "data": {
            "text/plain": [
              "True"
            ]
          },
          "metadata": {},
          "execution_count": 72
        }
      ]
    },
    {
      "cell_type": "code",
      "source": [
        "'good' not in feedback"
      ],
      "metadata": {
        "colab": {
          "base_uri": "https://localhost:8080/"
        },
        "id": "01IqX1NHRyjP",
        "outputId": "8d481e89-abce-4e4a-e25a-d094394fcbfb"
      },
      "execution_count": 73,
      "outputs": [
        {
          "output_type": "execute_result",
          "data": {
            "text/plain": [
              "False"
            ]
          },
          "metadata": {},
          "execution_count": 73
        }
      ]
    },
    {
      "cell_type": "markdown",
      "source": [
        "###5.c. Control the flow of the Program"
      ],
      "metadata": {
        "id": "qeHuTzWNTkD9"
      }
    },
    {
      "cell_type": "code",
      "source": [
        "user_password = input('New Password: ')\n",
        "\n",
        "if len(user_password)<5:\n",
        "  print('Weak Password')\n",
        "else:\n",
        "  print('Strong Password')"
      ],
      "metadata": {
        "colab": {
          "base_uri": "https://localhost:8080/"
        },
        "id": "hqE0LsaNRynu",
        "outputId": "96e94aa7-6534-447b-f568-ff1c50befb18"
      },
      "execution_count": 75,
      "outputs": [
        {
          "output_type": "stream",
          "name": "stdout",
          "text": [
            "New Password: hi\n",
            "Weak Password\n"
          ]
        }
      ]
    },
    {
      "cell_type": "code",
      "source": [
        "user_password = input('New Password: ')\n",
        "\n",
        "if len(user_password)<5:\n",
        "  print('Weak Password')\n",
        "\n",
        "elif 5<=len(user_password)<10:\n",
        "  print('Moderate Password')\n",
        "  \n",
        "else:\n",
        "  print('Strong Password')"
      ],
      "metadata": {
        "colab": {
          "base_uri": "https://localhost:8080/"
        },
        "id": "gJErx5TVUoLM",
        "outputId": "18157d98-4981-4445-8e67-5bebfad51c1f"
      },
      "execution_count": 76,
      "outputs": [
        {
          "output_type": "stream",
          "name": "stdout",
          "text": [
            "New Password: hithere\n",
            "Moderate Password\n"
          ]
        }
      ]
    },
    {
      "cell_type": "markdown",
      "source": [
        "###5.d. Find out the factors of a number"
      ],
      "metadata": {
        "id": "VaYguN22VDTc"
      }
    },
    {
      "cell_type": "code",
      "source": [
        "user_input = int(input('Enter the number: '))\n",
        "\n",
        "for i in range(1,user_input+1):\n",
        "    if user_input % i==0:\n",
        "       print(i)"
      ],
      "metadata": {
        "colab": {
          "base_uri": "https://localhost:8080/"
        },
        "id": "cOrkWWQXU-dz",
        "outputId": "b5e0cd8a-43e1-42af-9bc7-58720f0c022b"
      },
      "execution_count": 86,
      "outputs": [
        {
          "output_type": "stream",
          "name": "stdout",
          "text": [
            "Enter the number: 10\n",
            "1\n",
            "2\n",
            "5\n",
            "10\n"
          ]
        }
      ]
    },
    {
      "cell_type": "code",
      "source": [
        "def print_factors(x):\n",
        "   print(\"The factors of\",x,\"are:\")\n",
        "   for i in range(1, x + 1):\n",
        "       if x % i == 0:\n",
        "           print(i)\n",
        "\n",
        "num = 10\n",
        "\n",
        "print_factors(num)"
      ],
      "metadata": {
        "colab": {
          "base_uri": "https://localhost:8080/"
        },
        "id": "k9OWbZB3VgRh",
        "outputId": "bd7c287f-6422-4444-89f1-17cf8678a562"
      },
      "execution_count": 85,
      "outputs": [
        {
          "output_type": "stream",
          "name": "stdout",
          "text": [
            "The factors of 10 are:\n",
            "1\n",
            "2\n",
            "5\n",
            "10\n"
          ]
        }
      ]
    },
    {
      "cell_type": "markdown",
      "source": [
        "###5.e. Break Out of the pattern"
      ],
      "metadata": {
        "id": "qA1r0ZLSXssu"
      }
    },
    {
      "cell_type": "code",
      "source": [
        "while True:\n",
        "  user_input = input('Type q to exit from the pattern ')\n",
        "\n",
        "  if user_input.lower() == 'q':\n",
        "    break"
      ],
      "metadata": {
        "colab": {
          "base_uri": "https://localhost:8080/"
        },
        "id": "WeiTUMRuXg8c",
        "outputId": "63ad4109-25f7-4748-9351-aae5bb8ace3e"
      },
      "execution_count": 89,
      "outputs": [
        {
          "name": "stdout",
          "output_type": "stream",
          "text": [
            "Type q to exit from the pattern e\n",
            "Type q to exit from the pattern q\n"
          ]
        }
      ]
    },
    {
      "cell_type": "code",
      "source": [
        "for i in range(1,11):\n",
        "  if i%2 ==0:\n",
        "    break\n",
        "  print(i)"
      ],
      "metadata": {
        "colab": {
          "base_uri": "https://localhost:8080/"
        },
        "id": "Ok1f3nMgbEIy",
        "outputId": "71a16455-d2b3-4ff1-fea4-efa3e9f09b00"
      },
      "execution_count": 105,
      "outputs": [
        {
          "output_type": "stream",
          "name": "stdout",
          "text": [
            "1\n"
          ]
        }
      ]
    },
    {
      "cell_type": "code",
      "source": [
        "for i in range(1,11):\n",
        "  if i%2 ==0:\n",
        "    #continue\n",
        "    print(i)"
      ],
      "metadata": {
        "colab": {
          "base_uri": "https://localhost:8080/"
        },
        "id": "cGB6mSERXxwr",
        "outputId": "6fdd2efa-893b-4211-fd26-157057aba230"
      },
      "execution_count": 95,
      "outputs": [
        {
          "output_type": "stream",
          "name": "stdout",
          "text": [
            "2\n",
            "4\n",
            "6\n",
            "8\n",
            "10\n"
          ]
        }
      ]
    },
    {
      "cell_type": "code",
      "source": [
        "for i in range(1,11):\n",
        "  if i%2 ==0:\n",
        "    continue #if value is equal true 'continue' will skip those value\n",
        "  print(i)"
      ],
      "metadata": {
        "colab": {
          "base_uri": "https://localhost:8080/"
        },
        "id": "NUD5cSklZYNZ",
        "outputId": "43916925-5406-49d4-940f-8c2af368204d"
      },
      "execution_count": 103,
      "outputs": [
        {
          "output_type": "stream",
          "name": "stdout",
          "text": [
            "1\n",
            "3\n",
            "5\n",
            "7\n",
            "9\n"
          ]
        }
      ]
    },
    {
      "cell_type": "code",
      "source": [],
      "metadata": {
        "id": "7C8w84HlamLV"
      },
      "execution_count": null,
      "outputs": []
    }
  ]
}