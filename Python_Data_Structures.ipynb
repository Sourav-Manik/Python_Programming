{
  "nbformat": 4,
  "nbformat_minor": 0,
  "metadata": {
    "colab": {
      "provenance": [],
      "authorship_tag": "ABX9TyM/V4SFel3zGjYJuO1q9ZOa",
      "include_colab_link": true
    },
    "kernelspec": {
      "name": "python3",
      "display_name": "Python 3"
    },
    "language_info": {
      "name": "python"
    }
  },
  "cells": [
    {
      "cell_type": "markdown",
      "metadata": {
        "id": "view-in-github",
        "colab_type": "text"
      },
      "source": [
        "<a href=\"https://colab.research.google.com/github/Sourav-Manik/Python_Programming/blob/main/Python_Data_Structures.ipynb\" target=\"_parent\"><img src=\"https://colab.research.google.com/assets/colab-badge.svg\" alt=\"Open In Colab\"/></a>"
      ]
    },
    {
      "cell_type": "markdown",
      "source": [
        "4 types of Data Structures:\n",
        "\n",
        "1. List\n",
        "2. Tuple\n",
        "3. Sets\n",
        "4. Dictionary"
      ],
      "metadata": {
        "id": "lY25wJPmcZZO"
      }
    },
    {
      "cell_type": "markdown",
      "source": [
        "##1.List"
      ],
      "metadata": {
        "id": "XucKssLDckOF"
      }
    },
    {
      "cell_type": "markdown",
      "source": [
        "1D\n",
        "\n",
        "Allows duplicate elements\n",
        "\n",
        "Mutable\n",
        "\n",
        "Indexing and Slicing can be done\n",
        "\n",
        "Heterogenous ex-[milk,egg,2] nos. and string can be given"
      ],
      "metadata": {
        "id": "oTbzG2widviN"
      }
    },
    {
      "cell_type": "code",
      "execution_count": null,
      "metadata": {
        "id": "nCaS8CrQcTEY"
      },
      "outputs": [],
      "source": [
        "empty_cart = []"
      ]
    },
    {
      "cell_type": "code",
      "source": [
        "empty_cart"
      ],
      "metadata": {
        "colab": {
          "base_uri": "https://localhost:8080/"
        },
        "id": "SPwB9KIbcs7E",
        "outputId": "7a26dff9-71b1-4197-ada0-3ba0110a0396"
      },
      "execution_count": null,
      "outputs": [
        {
          "output_type": "execute_result",
          "data": {
            "text/plain": [
              "[]"
            ]
          },
          "metadata": {},
          "execution_count": 2
        }
      ]
    },
    {
      "cell_type": "code",
      "source": [
        "type(empty_cart)"
      ],
      "metadata": {
        "colab": {
          "base_uri": "https://localhost:8080/"
        },
        "id": "RXHM8_BZct_w",
        "outputId": "9d40f314-432c-4456-b400-9f99e8e2a33d"
      },
      "execution_count": null,
      "outputs": [
        {
          "output_type": "execute_result",
          "data": {
            "text/plain": [
              "list"
            ]
          },
          "metadata": {},
          "execution_count": 3
        }
      ]
    },
    {
      "cell_type": "code",
      "source": [
        "item_to_buy = ['oats','milk','milk','eggs']\n",
        "item_to_buy"
      ],
      "metadata": {
        "colab": {
          "base_uri": "https://localhost:8080/"
        },
        "id": "ShiEAsFfcyxN",
        "outputId": "786aa895-685d-439b-a871-f4b2ef3b13d8"
      },
      "execution_count": null,
      "outputs": [
        {
          "output_type": "execute_result",
          "data": {
            "text/plain": [
              "['oats', 'milk', 'milk', 'eggs']"
            ]
          },
          "metadata": {},
          "execution_count": 6
        }
      ]
    },
    {
      "cell_type": "code",
      "source": [
        "type(item_to_buy)"
      ],
      "metadata": {
        "colab": {
          "base_uri": "https://localhost:8080/"
        },
        "id": "sMwP4nkRc6MQ",
        "outputId": "32e1cf44-2e38-49ae-a341-8a8270093ee9"
      },
      "execution_count": null,
      "outputs": [
        {
          "output_type": "execute_result",
          "data": {
            "text/plain": [
              "list"
            ]
          },
          "metadata": {},
          "execution_count": 7
        }
      ]
    },
    {
      "cell_type": "code",
      "source": [
        "item_to_buy[1]   #Indexing"
      ],
      "metadata": {
        "colab": {
          "base_uri": "https://localhost:8080/",
          "height": 36
        },
        "id": "BXJ2dBL_dFpC",
        "outputId": "b2c8ebd3-4eaa-4b7d-8ebb-768662a51645"
      },
      "execution_count": null,
      "outputs": [
        {
          "output_type": "execute_result",
          "data": {
            "text/plain": [
              "'milk'"
            ],
            "application/vnd.google.colaboratory.intrinsic+json": {
              "type": "string"
            }
          },
          "metadata": {},
          "execution_count": 8
        }
      ]
    },
    {
      "cell_type": "code",
      "source": [
        "item_to_buy[2:4]  #Slicing"
      ],
      "metadata": {
        "colab": {
          "base_uri": "https://localhost:8080/"
        },
        "id": "VzE5S1G4dIhp",
        "outputId": "3521d20c-0862-4396-9cb2-fe4cc53328af"
      },
      "execution_count": null,
      "outputs": [
        {
          "output_type": "execute_result",
          "data": {
            "text/plain": [
              "['milk', 'eggs']"
            ]
          },
          "metadata": {},
          "execution_count": 10
        }
      ]
    },
    {
      "cell_type": "code",
      "source": [
        "item_to_buy[1] = 'beans'"
      ],
      "metadata": {
        "id": "31KO9fe4dNi5"
      },
      "execution_count": null,
      "outputs": []
    },
    {
      "cell_type": "code",
      "source": [
        "#list is mutable - it means we can change the values in a list. "
      ],
      "metadata": {
        "id": "P6RROGi7dfmi"
      },
      "execution_count": null,
      "outputs": []
    },
    {
      "cell_type": "code",
      "source": [
        "item_to_buy"
      ],
      "metadata": {
        "colab": {
          "base_uri": "https://localhost:8080/"
        },
        "id": "W2o3PfVndbD0",
        "outputId": "21cee66f-5bb7-4d48-f4c4-6e129bbe956b"
      },
      "execution_count": null,
      "outputs": [
        {
          "output_type": "execute_result",
          "data": {
            "text/plain": [
              "['oats', 'beans', 'milk', 'eggs']"
            ]
          },
          "metadata": {},
          "execution_count": 13
        }
      ]
    },
    {
      "cell_type": "code",
      "source": [
        "item_to_buy.append('Mushroom')"
      ],
      "metadata": {
        "id": "B2cjATzGfmva"
      },
      "execution_count": null,
      "outputs": []
    },
    {
      "cell_type": "code",
      "source": [
        "item_to_buy"
      ],
      "metadata": {
        "colab": {
          "base_uri": "https://localhost:8080/"
        },
        "id": "8gFUl2Uvfr-8",
        "outputId": "55b799a3-70d7-4b5c-d366-a5bf27e3baf1"
      },
      "execution_count": null,
      "outputs": [
        {
          "output_type": "execute_result",
          "data": {
            "text/plain": [
              "['oats', 'beans', 'milk', 'eggs', 'Mushroom']"
            ]
          },
          "metadata": {},
          "execution_count": 19
        }
      ]
    },
    {
      "cell_type": "markdown",
      "source": [
        "##2.Sets"
      ],
      "metadata": {
        "id": "EIXzgWOFearJ"
      }
    },
    {
      "cell_type": "markdown",
      "source": [
        "1D\n",
        "\n",
        "Heterogenous\n",
        "\n",
        "Dosen't allow duplicate elements\n",
        "\n",
        "Mutable\n",
        "\n",
        "Indexing and Slicing is not possible"
      ],
      "metadata": {
        "id": "AVTNfa6FelMu"
      }
    },
    {
      "cell_type": "code",
      "source": [
        "empty_cart_2 = set()\n",
        "empty_cart_2"
      ],
      "metadata": {
        "colab": {
          "base_uri": "https://localhost:8080/"
        },
        "id": "gRIU86p0dbHN",
        "outputId": "99bd75dc-b10c-42ab-b7ae-1f15a0e4d6b6"
      },
      "execution_count": null,
      "outputs": [
        {
          "output_type": "execute_result",
          "data": {
            "text/plain": [
              "set()"
            ]
          },
          "metadata": {},
          "execution_count": 14
        }
      ]
    },
    {
      "cell_type": "code",
      "source": [
        "type(empty_cart_2)"
      ],
      "metadata": {
        "colab": {
          "base_uri": "https://localhost:8080/"
        },
        "id": "5szw38RcdbKb",
        "outputId": "47fff90d-aa4b-4a40-91c4-b4644232b649"
      },
      "execution_count": null,
      "outputs": [
        {
          "output_type": "execute_result",
          "data": {
            "text/plain": [
              "set"
            ]
          },
          "metadata": {},
          "execution_count": 17
        }
      ]
    },
    {
      "cell_type": "code",
      "source": [
        "item_to_buy_2 = {'oats','milk','milk','eggs'}\n",
        "item_to_buy_2"
      ],
      "metadata": {
        "colab": {
          "base_uri": "https://localhost:8080/"
        },
        "id": "P9UJfaYtdbON",
        "outputId": "8361d07b-330e-446f-86ef-0de785daddb6"
      },
      "execution_count": null,
      "outputs": [
        {
          "output_type": "execute_result",
          "data": {
            "text/plain": [
              "{'eggs', 'milk', 'oats'}"
            ]
          },
          "metadata": {},
          "execution_count": 24
        }
      ]
    },
    {
      "cell_type": "code",
      "source": [
        "type(item_to_buy_2)"
      ],
      "metadata": {
        "colab": {
          "base_uri": "https://localhost:8080/"
        },
        "id": "nTc5Swa4gYqd",
        "outputId": "4724a978-afc2-4285-affa-df8b561061cf"
      },
      "execution_count": null,
      "outputs": [
        {
          "output_type": "execute_result",
          "data": {
            "text/plain": [
              "set"
            ]
          },
          "metadata": {},
          "execution_count": 25
        }
      ]
    },
    {
      "cell_type": "code",
      "source": [
        "item_to_buy_2.add('chicken')"
      ],
      "metadata": {
        "id": "o2Z76WoDgaub"
      },
      "execution_count": null,
      "outputs": []
    },
    {
      "cell_type": "code",
      "source": [
        "item_to_buy_2"
      ],
      "metadata": {
        "colab": {
          "base_uri": "https://localhost:8080/"
        },
        "id": "qn_0NlCSgtN0",
        "outputId": "e9d5a69a-48e6-4d25-96f7-af681ac7edb8"
      },
      "execution_count": null,
      "outputs": [
        {
          "output_type": "execute_result",
          "data": {
            "text/plain": [
              "{'chicken', 'eggs', 'milk', 'oats'}"
            ]
          },
          "metadata": {},
          "execution_count": 27
        }
      ]
    },
    {
      "cell_type": "markdown",
      "source": [
        "##3.Tuple"
      ],
      "metadata": {
        "id": "Lb8ToZikhO7A"
      }
    },
    {
      "cell_type": "markdown",
      "source": [
        "1D\n",
        "\n",
        "Heterogenous\n",
        "\n",
        "Immutable\n",
        "\n",
        "Indexable and Sliceable\n",
        "\n",
        "Alows duplicate values"
      ],
      "metadata": {
        "id": "dk4J-icQjBrG"
      }
    },
    {
      "cell_type": "code",
      "source": [
        "empty_cart_3 = tuple()\n",
        "empty_cart_3"
      ],
      "metadata": {
        "colab": {
          "base_uri": "https://localhost:8080/"
        },
        "outputId": "8b25eb8c-ec50-4e4c-a881-17fe65e9f10c",
        "id": "NdXJWSvwhZbi"
      },
      "execution_count": null,
      "outputs": [
        {
          "output_type": "execute_result",
          "data": {
            "text/plain": [
              "()"
            ]
          },
          "metadata": {},
          "execution_count": 28
        }
      ]
    },
    {
      "cell_type": "code",
      "source": [
        "type(empty_cart_3)"
      ],
      "metadata": {
        "colab": {
          "base_uri": "https://localhost:8080/"
        },
        "outputId": "325036b1-bfba-4ea3-f2bc-7ab8e976bc1e",
        "id": "1W3NrVwthZbn"
      },
      "execution_count": null,
      "outputs": [
        {
          "output_type": "execute_result",
          "data": {
            "text/plain": [
              "tuple"
            ]
          },
          "metadata": {},
          "execution_count": 29
        }
      ]
    },
    {
      "cell_type": "code",
      "source": [
        "item_to_buy_3 = ('oats','milk','milk','eggs')\n",
        "item_to_buy_3"
      ],
      "metadata": {
        "colab": {
          "base_uri": "https://localhost:8080/"
        },
        "outputId": "852393ac-ff70-46e5-dbda-9c7ff4ac9d87",
        "id": "HghgE0odhZbp"
      },
      "execution_count": null,
      "outputs": [
        {
          "output_type": "execute_result",
          "data": {
            "text/plain": [
              "('oats', 'milk', 'milk', 'eggs')"
            ]
          },
          "metadata": {},
          "execution_count": 30
        }
      ]
    },
    {
      "cell_type": "code",
      "source": [
        "item_to_buy_4 = 'oats','milk','milk','eggs' #default data structure is tuple in python\n",
        "item_to_buy_4"
      ],
      "metadata": {
        "colab": {
          "base_uri": "https://localhost:8080/"
        },
        "id": "Lfuo94mPgunO",
        "outputId": "cea3d1be-63fe-4350-ec41-49c5e42bb22d"
      },
      "execution_count": null,
      "outputs": [
        {
          "output_type": "execute_result",
          "data": {
            "text/plain": [
              "('oats', 'milk', 'milk', 'eggs')"
            ]
          },
          "metadata": {},
          "execution_count": 31
        }
      ]
    },
    {
      "cell_type": "code",
      "source": [
        "type(item_to_buy_4)"
      ],
      "metadata": {
        "colab": {
          "base_uri": "https://localhost:8080/"
        },
        "id": "Us6qd6MxhR8d",
        "outputId": "884159e3-329c-4845-a74e-b49e72002fe5"
      },
      "execution_count": null,
      "outputs": [
        {
          "output_type": "execute_result",
          "data": {
            "text/plain": [
              "tuple"
            ]
          },
          "metadata": {},
          "execution_count": 33
        }
      ]
    },
    {
      "cell_type": "code",
      "source": [
        "item_to_buy_4[3]"
      ],
      "metadata": {
        "colab": {
          "base_uri": "https://localhost:8080/",
          "height": 36
        },
        "id": "hdtM7CbahR_u",
        "outputId": "f0e46880-c249-47e5-a652-2fd232e07e83"
      },
      "execution_count": null,
      "outputs": [
        {
          "output_type": "execute_result",
          "data": {
            "text/plain": [
              "'eggs'"
            ],
            "application/vnd.google.colaboratory.intrinsic+json": {
              "type": "string"
            }
          },
          "metadata": {},
          "execution_count": 34
        }
      ]
    },
    {
      "cell_type": "code",
      "source": [
        "item_to_buy_4[:4]"
      ],
      "metadata": {
        "colab": {
          "base_uri": "https://localhost:8080/"
        },
        "id": "NvTzzvZbhSC4",
        "outputId": "d091d1f4-6ce0-439a-a058-ae1d6d746550"
      },
      "execution_count": null,
      "outputs": [
        {
          "output_type": "execute_result",
          "data": {
            "text/plain": [
              "('oats', 'milk', 'milk', 'eggs')"
            ]
          },
          "metadata": {},
          "execution_count": 35
        }
      ]
    },
    {
      "cell_type": "code",
      "source": [
        "item_to_buy_4[:-1]"
      ],
      "metadata": {
        "colab": {
          "base_uri": "https://localhost:8080/"
        },
        "id": "0Jpm3PnFhSGD",
        "outputId": "6280f21d-fabc-4eeb-e45a-1538a7a7e981"
      },
      "execution_count": null,
      "outputs": [
        {
          "output_type": "execute_result",
          "data": {
            "text/plain": [
              "('oats', 'milk', 'milk')"
            ]
          },
          "metadata": {},
          "execution_count": 36
        }
      ]
    },
    {
      "cell_type": "markdown",
      "source": [
        "## 4.Dictionaries\n",
        "\n",
        "It is a **key-value** pair"
      ],
      "metadata": {
        "id": "xinabPwhjQUb"
      }
    },
    {
      "cell_type": "markdown",
      "source": [
        "2D\n",
        "\n",
        "Heterogenous\n",
        "\n",
        "Duplicate - \n",
        "\n",
        "a. Key pair   = Not allowed\n",
        "\n",
        "b. Value pair = Allowed\n",
        "\n",
        "Indexing not allowed"
      ],
      "metadata": {
        "id": "kkbHJkmDnbx4"
      }
    },
    {
      "cell_type": "code",
      "source": [
        "empty_cart_4 = {}\n",
        "empty_cart_4"
      ],
      "metadata": {
        "colab": {
          "base_uri": "https://localhost:8080/"
        },
        "outputId": "23c6a946-2dff-4bee-ab9d-015ef36b58d5",
        "id": "hDdImDt5jp8_"
      },
      "execution_count": null,
      "outputs": [
        {
          "output_type": "execute_result",
          "data": {
            "text/plain": [
              "{}"
            ]
          },
          "metadata": {},
          "execution_count": 37
        }
      ]
    },
    {
      "cell_type": "code",
      "source": [
        "type(empty_cart_4)"
      ],
      "metadata": {
        "colab": {
          "base_uri": "https://localhost:8080/"
        },
        "outputId": "c503034f-7031-4dfa-a03a-5dbe6a319782",
        "id": "jLuaOQvGjp9A"
      },
      "execution_count": null,
      "outputs": [
        {
          "output_type": "execute_result",
          "data": {
            "text/plain": [
              "dict"
            ]
          },
          "metadata": {},
          "execution_count": 38
        }
      ]
    },
    {
      "cell_type": "code",
      "source": [
        "learner_details = {'fname': 'raj',\n",
        "                   'age': 21,\n",
        "                   'company':'IBM',\n",
        "                   'fname': 'raj'} #dictionary can have duplicate values but not duplicate keys\n",
        "learner_details"
      ],
      "metadata": {
        "colab": {
          "base_uri": "https://localhost:8080/"
        },
        "id": "0kAb47aChSL8",
        "outputId": "68111e36-485c-432b-e1d5-0ff0f1453a43"
      },
      "execution_count": null,
      "outputs": [
        {
          "output_type": "execute_result",
          "data": {
            "text/plain": [
              "{'fname': 'raj', 'age': 21, 'company': 'IBM'}"
            ]
          },
          "metadata": {},
          "execution_count": 40
        }
      ]
    },
    {
      "cell_type": "code",
      "source": [
        "type(learner_details)"
      ],
      "metadata": {
        "colab": {
          "base_uri": "https://localhost:8080/"
        },
        "id": "qlxk6Qp5hSSz",
        "outputId": "0118d895-e250-4eaa-8e5d-238cfa4f60c1"
      },
      "execution_count": null,
      "outputs": [
        {
          "output_type": "execute_result",
          "data": {
            "text/plain": [
              "dict"
            ]
          },
          "metadata": {},
          "execution_count": 41
        }
      ]
    },
    {
      "cell_type": "code",
      "source": [
        "learner_details.keys()"
      ],
      "metadata": {
        "colab": {
          "base_uri": "https://localhost:8080/"
        },
        "id": "rU_rgxGUkdx6",
        "outputId": "8d4f3056-32f6-4d24-d3a5-637a8c63046d"
      },
      "execution_count": null,
      "outputs": [
        {
          "output_type": "execute_result",
          "data": {
            "text/plain": [
              "dict_keys(['fname', 'age', 'company'])"
            ]
          },
          "metadata": {},
          "execution_count": 42
        }
      ]
    },
    {
      "cell_type": "code",
      "source": [
        "learner_details.values()"
      ],
      "metadata": {
        "colab": {
          "base_uri": "https://localhost:8080/"
        },
        "id": "aniC62PTkd0_",
        "outputId": "9d9da0f9-cf92-4dd7-85c8-817dab9eaaf6"
      },
      "execution_count": null,
      "outputs": [
        {
          "output_type": "execute_result",
          "data": {
            "text/plain": [
              "dict_values(['raj', 21, 'IBM'])"
            ]
          },
          "metadata": {},
          "execution_count": 43
        }
      ]
    },
    {
      "cell_type": "code",
      "source": [
        "learner_details_2 = {'fname': ['raj','rohit','ritik','aman'],\n",
        "                   'age': [21,18,21,22],\n",
        "                   'company':['IBM','Meta','Clerx','Pamossa']\n",
        "                   } #dictionary can have duplicate values but not duplicate keys\n",
        "learner_details_2"
      ],
      "metadata": {
        "colab": {
          "base_uri": "https://localhost:8080/"
        },
        "id": "gj_tHo3qkd4B",
        "outputId": "83aaf070-e2f4-42d7-b9fc-486fc0b67a3c"
      },
      "execution_count": null,
      "outputs": [
        {
          "output_type": "execute_result",
          "data": {
            "text/plain": [
              "{'fname': ['raj', 'rohit', 'ritik', 'aman'],\n",
              " 'age': [21, 18, 21, 22],\n",
              " 'company': ['IBM', 'Meta', 'Clerx', 'Pamossa']}"
            ]
          },
          "metadata": {},
          "execution_count": 45
        }
      ]
    },
    {
      "cell_type": "code",
      "source": [
        "import pandas as pd"
      ],
      "metadata": {
        "id": "GUkSGupsnK_M"
      },
      "execution_count": null,
      "outputs": []
    },
    {
      "cell_type": "code",
      "source": [
        "pd.DataFrame(data=learner_details_2)"
      ],
      "metadata": {
        "colab": {
          "base_uri": "https://localhost:8080/",
          "height": 175
        },
        "id": "5AZYNQ28nPFP",
        "outputId": "be0ce3da-eff1-48ed-94f2-067a3a51caec"
      },
      "execution_count": null,
      "outputs": [
        {
          "output_type": "execute_result",
          "data": {
            "text/plain": [
              "   fname  age  company\n",
              "0    raj   21      IBM\n",
              "1  rohit   18     Meta\n",
              "2  ritik   21    Clerx\n",
              "3   aman   22  Pamossa"
            ],
            "text/html": [
              "\n",
              "  <div id=\"df-dd567df2-885e-4132-ae6d-7bcb17616932\">\n",
              "    <div class=\"colab-df-container\">\n",
              "      <div>\n",
              "<style scoped>\n",
              "    .dataframe tbody tr th:only-of-type {\n",
              "        vertical-align: middle;\n",
              "    }\n",
              "\n",
              "    .dataframe tbody tr th {\n",
              "        vertical-align: top;\n",
              "    }\n",
              "\n",
              "    .dataframe thead th {\n",
              "        text-align: right;\n",
              "    }\n",
              "</style>\n",
              "<table border=\"1\" class=\"dataframe\">\n",
              "  <thead>\n",
              "    <tr style=\"text-align: right;\">\n",
              "      <th></th>\n",
              "      <th>fname</th>\n",
              "      <th>age</th>\n",
              "      <th>company</th>\n",
              "    </tr>\n",
              "  </thead>\n",
              "  <tbody>\n",
              "    <tr>\n",
              "      <th>0</th>\n",
              "      <td>raj</td>\n",
              "      <td>21</td>\n",
              "      <td>IBM</td>\n",
              "    </tr>\n",
              "    <tr>\n",
              "      <th>1</th>\n",
              "      <td>rohit</td>\n",
              "      <td>18</td>\n",
              "      <td>Meta</td>\n",
              "    </tr>\n",
              "    <tr>\n",
              "      <th>2</th>\n",
              "      <td>ritik</td>\n",
              "      <td>21</td>\n",
              "      <td>Clerx</td>\n",
              "    </tr>\n",
              "    <tr>\n",
              "      <th>3</th>\n",
              "      <td>aman</td>\n",
              "      <td>22</td>\n",
              "      <td>Pamossa</td>\n",
              "    </tr>\n",
              "  </tbody>\n",
              "</table>\n",
              "</div>\n",
              "      <button class=\"colab-df-convert\" onclick=\"convertToInteractive('df-dd567df2-885e-4132-ae6d-7bcb17616932')\"\n",
              "              title=\"Convert this dataframe to an interactive table.\"\n",
              "              style=\"display:none;\">\n",
              "        \n",
              "  <svg xmlns=\"http://www.w3.org/2000/svg\" height=\"24px\"viewBox=\"0 0 24 24\"\n",
              "       width=\"24px\">\n",
              "    <path d=\"M0 0h24v24H0V0z\" fill=\"none\"/>\n",
              "    <path d=\"M18.56 5.44l.94 2.06.94-2.06 2.06-.94-2.06-.94-.94-2.06-.94 2.06-2.06.94zm-11 1L8.5 8.5l.94-2.06 2.06-.94-2.06-.94L8.5 2.5l-.94 2.06-2.06.94zm10 10l.94 2.06.94-2.06 2.06-.94-2.06-.94-.94-2.06-.94 2.06-2.06.94z\"/><path d=\"M17.41 7.96l-1.37-1.37c-.4-.4-.92-.59-1.43-.59-.52 0-1.04.2-1.43.59L10.3 9.45l-7.72 7.72c-.78.78-.78 2.05 0 2.83L4 21.41c.39.39.9.59 1.41.59.51 0 1.02-.2 1.41-.59l7.78-7.78 2.81-2.81c.8-.78.8-2.07 0-2.86zM5.41 20L4 18.59l7.72-7.72 1.47 1.35L5.41 20z\"/>\n",
              "  </svg>\n",
              "      </button>\n",
              "      \n",
              "  <style>\n",
              "    .colab-df-container {\n",
              "      display:flex;\n",
              "      flex-wrap:wrap;\n",
              "      gap: 12px;\n",
              "    }\n",
              "\n",
              "    .colab-df-convert {\n",
              "      background-color: #E8F0FE;\n",
              "      border: none;\n",
              "      border-radius: 50%;\n",
              "      cursor: pointer;\n",
              "      display: none;\n",
              "      fill: #1967D2;\n",
              "      height: 32px;\n",
              "      padding: 0 0 0 0;\n",
              "      width: 32px;\n",
              "    }\n",
              "\n",
              "    .colab-df-convert:hover {\n",
              "      background-color: #E2EBFA;\n",
              "      box-shadow: 0px 1px 2px rgba(60, 64, 67, 0.3), 0px 1px 3px 1px rgba(60, 64, 67, 0.15);\n",
              "      fill: #174EA6;\n",
              "    }\n",
              "\n",
              "    [theme=dark] .colab-df-convert {\n",
              "      background-color: #3B4455;\n",
              "      fill: #D2E3FC;\n",
              "    }\n",
              "\n",
              "    [theme=dark] .colab-df-convert:hover {\n",
              "      background-color: #434B5C;\n",
              "      box-shadow: 0px 1px 3px 1px rgba(0, 0, 0, 0.15);\n",
              "      filter: drop-shadow(0px 1px 2px rgba(0, 0, 0, 0.3));\n",
              "      fill: #FFFFFF;\n",
              "    }\n",
              "  </style>\n",
              "\n",
              "      <script>\n",
              "        const buttonEl =\n",
              "          document.querySelector('#df-dd567df2-885e-4132-ae6d-7bcb17616932 button.colab-df-convert');\n",
              "        buttonEl.style.display =\n",
              "          google.colab.kernel.accessAllowed ? 'block' : 'none';\n",
              "\n",
              "        async function convertToInteractive(key) {\n",
              "          const element = document.querySelector('#df-dd567df2-885e-4132-ae6d-7bcb17616932');\n",
              "          const dataTable =\n",
              "            await google.colab.kernel.invokeFunction('convertToInteractive',\n",
              "                                                     [key], {});\n",
              "          if (!dataTable) return;\n",
              "\n",
              "          const docLinkHtml = 'Like what you see? Visit the ' +\n",
              "            '<a target=\"_blank\" href=https://colab.research.google.com/notebooks/data_table.ipynb>data table notebook</a>'\n",
              "            + ' to learn more about interactive tables.';\n",
              "          element.innerHTML = '';\n",
              "          dataTable['output_type'] = 'display_data';\n",
              "          await google.colab.output.renderOutput(dataTable, element);\n",
              "          const docLink = document.createElement('div');\n",
              "          docLink.innerHTML = docLinkHtml;\n",
              "          element.appendChild(docLink);\n",
              "        }\n",
              "      </script>\n",
              "    </div>\n",
              "  </div>\n",
              "  "
            ]
          },
          "metadata": {},
          "execution_count": 47
        }
      ]
    },
    {
      "cell_type": "code",
      "source": [
        "#End"
      ],
      "metadata": {
        "id": "A8wNJcsXnSp-"
      },
      "execution_count": null,
      "outputs": []
    }
  ]
}